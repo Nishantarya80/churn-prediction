{
  "nbformat": 4,
  "nbformat_minor": 0,
  "metadata": {
    "colab": {
      "name": "churn pridiction.ipynb",
      "provenance": [],
      "collapsed_sections": []
    },
    "kernelspec": {
      "name": "python3",
      "display_name": "Python 3"
    },
    "accelerator": "GPU"
  },
  "cells": [
    {
      "cell_type": "code",
      "metadata": {
        "id": "MX_qEbACT0Oj"
      },
      "source": [
        "import pandas as pd\n",
        "import numpy as np\n",
        "from sklearn.linear_model import LinearRegression,LogisticRegression\n",
        "from sklearn.svm import SVC\n",
        "from sklearn.tree import DecisionTreeRegressor\n",
        "import seaborn as sns\n",
        "import matplotlib.pyplot as plt\n",
        "%matplotlib inline"
      ],
      "execution_count": 159,
      "outputs": []
    },
    {
      "cell_type": "code",
      "metadata": {
        "id": "E4iqFiIGVa0I"
      },
      "source": [
        "url = 'https://raw.githubusercontent.com/Nishantarya80/data/master/WA_Fn-UseC_-Telco-Customer-Churn.csv'\n",
        "Data = pd.read_csv(url)"
      ],
      "execution_count": 160,
      "outputs": []
    },
    {
      "cell_type": "code",
      "metadata": {
        "id": "4tgOIPb8ucl4",
        "colab": {
          "base_uri": "https://localhost:8080/",
          "height": 312
        },
        "outputId": "35edf064-e7d2-4fee-a703-1b5c3547e1ce"
      },
      "source": [
        "Data.head()"
      ],
      "execution_count": 161,
      "outputs": [
        {
          "output_type": "execute_result",
          "data": {
            "text/html": [
              "<div>\n",
              "<style scoped>\n",
              "    .dataframe tbody tr th:only-of-type {\n",
              "        vertical-align: middle;\n",
              "    }\n",
              "\n",
              "    .dataframe tbody tr th {\n",
              "        vertical-align: top;\n",
              "    }\n",
              "\n",
              "    .dataframe thead th {\n",
              "        text-align: right;\n",
              "    }\n",
              "</style>\n",
              "<table border=\"1\" class=\"dataframe\">\n",
              "  <thead>\n",
              "    <tr style=\"text-align: right;\">\n",
              "      <th></th>\n",
              "      <th>customerID</th>\n",
              "      <th>gender</th>\n",
              "      <th>SeniorCitizen</th>\n",
              "      <th>Partner</th>\n",
              "      <th>Dependents</th>\n",
              "      <th>tenure</th>\n",
              "      <th>PhoneService</th>\n",
              "      <th>MultipleLines</th>\n",
              "      <th>InternetService</th>\n",
              "      <th>OnlineSecurity</th>\n",
              "      <th>OnlineBackup</th>\n",
              "      <th>DeviceProtection</th>\n",
              "      <th>TechSupport</th>\n",
              "      <th>StreamingTV</th>\n",
              "      <th>StreamingMovies</th>\n",
              "      <th>Contract</th>\n",
              "      <th>PaperlessBilling</th>\n",
              "      <th>PaymentMethod</th>\n",
              "      <th>MonthlyCharges</th>\n",
              "      <th>TotalCharges</th>\n",
              "      <th>Churn</th>\n",
              "    </tr>\n",
              "  </thead>\n",
              "  <tbody>\n",
              "    <tr>\n",
              "      <th>0</th>\n",
              "      <td>7590-VHVEG</td>\n",
              "      <td>Female</td>\n",
              "      <td>0</td>\n",
              "      <td>Yes</td>\n",
              "      <td>No</td>\n",
              "      <td>1</td>\n",
              "      <td>No</td>\n",
              "      <td>No phone service</td>\n",
              "      <td>DSL</td>\n",
              "      <td>No</td>\n",
              "      <td>Yes</td>\n",
              "      <td>No</td>\n",
              "      <td>No</td>\n",
              "      <td>No</td>\n",
              "      <td>No</td>\n",
              "      <td>Month-to-month</td>\n",
              "      <td>Yes</td>\n",
              "      <td>Electronic check</td>\n",
              "      <td>29.85</td>\n",
              "      <td>29.85</td>\n",
              "      <td>No</td>\n",
              "    </tr>\n",
              "    <tr>\n",
              "      <th>1</th>\n",
              "      <td>5575-GNVDE</td>\n",
              "      <td>Male</td>\n",
              "      <td>0</td>\n",
              "      <td>No</td>\n",
              "      <td>No</td>\n",
              "      <td>34</td>\n",
              "      <td>Yes</td>\n",
              "      <td>No</td>\n",
              "      <td>DSL</td>\n",
              "      <td>Yes</td>\n",
              "      <td>No</td>\n",
              "      <td>Yes</td>\n",
              "      <td>No</td>\n",
              "      <td>No</td>\n",
              "      <td>No</td>\n",
              "      <td>One year</td>\n",
              "      <td>No</td>\n",
              "      <td>Mailed check</td>\n",
              "      <td>56.95</td>\n",
              "      <td>1889.5</td>\n",
              "      <td>No</td>\n",
              "    </tr>\n",
              "    <tr>\n",
              "      <th>2</th>\n",
              "      <td>3668-QPYBK</td>\n",
              "      <td>Male</td>\n",
              "      <td>0</td>\n",
              "      <td>No</td>\n",
              "      <td>No</td>\n",
              "      <td>2</td>\n",
              "      <td>Yes</td>\n",
              "      <td>No</td>\n",
              "      <td>DSL</td>\n",
              "      <td>Yes</td>\n",
              "      <td>Yes</td>\n",
              "      <td>No</td>\n",
              "      <td>No</td>\n",
              "      <td>No</td>\n",
              "      <td>No</td>\n",
              "      <td>Month-to-month</td>\n",
              "      <td>Yes</td>\n",
              "      <td>Mailed check</td>\n",
              "      <td>53.85</td>\n",
              "      <td>108.15</td>\n",
              "      <td>Yes</td>\n",
              "    </tr>\n",
              "    <tr>\n",
              "      <th>3</th>\n",
              "      <td>7795-CFOCW</td>\n",
              "      <td>Male</td>\n",
              "      <td>0</td>\n",
              "      <td>No</td>\n",
              "      <td>No</td>\n",
              "      <td>45</td>\n",
              "      <td>No</td>\n",
              "      <td>No phone service</td>\n",
              "      <td>DSL</td>\n",
              "      <td>Yes</td>\n",
              "      <td>No</td>\n",
              "      <td>Yes</td>\n",
              "      <td>Yes</td>\n",
              "      <td>No</td>\n",
              "      <td>No</td>\n",
              "      <td>One year</td>\n",
              "      <td>No</td>\n",
              "      <td>Bank transfer (automatic)</td>\n",
              "      <td>42.30</td>\n",
              "      <td>1840.75</td>\n",
              "      <td>No</td>\n",
              "    </tr>\n",
              "    <tr>\n",
              "      <th>4</th>\n",
              "      <td>9237-HQITU</td>\n",
              "      <td>Female</td>\n",
              "      <td>0</td>\n",
              "      <td>No</td>\n",
              "      <td>No</td>\n",
              "      <td>2</td>\n",
              "      <td>Yes</td>\n",
              "      <td>No</td>\n",
              "      <td>Fiber optic</td>\n",
              "      <td>No</td>\n",
              "      <td>No</td>\n",
              "      <td>No</td>\n",
              "      <td>No</td>\n",
              "      <td>No</td>\n",
              "      <td>No</td>\n",
              "      <td>Month-to-month</td>\n",
              "      <td>Yes</td>\n",
              "      <td>Electronic check</td>\n",
              "      <td>70.70</td>\n",
              "      <td>151.65</td>\n",
              "      <td>Yes</td>\n",
              "    </tr>\n",
              "  </tbody>\n",
              "</table>\n",
              "</div>"
            ],
            "text/plain": [
              "   customerID  gender  SeniorCitizen  ... MonthlyCharges TotalCharges  Churn\n",
              "0  7590-VHVEG  Female              0  ...          29.85        29.85     No\n",
              "1  5575-GNVDE    Male              0  ...          56.95       1889.5     No\n",
              "2  3668-QPYBK    Male              0  ...          53.85       108.15    Yes\n",
              "3  7795-CFOCW    Male              0  ...          42.30      1840.75     No\n",
              "4  9237-HQITU  Female              0  ...          70.70       151.65    Yes\n",
              "\n",
              "[5 rows x 21 columns]"
            ]
          },
          "metadata": {},
          "execution_count": 161
        }
      ]
    },
    {
      "cell_type": "code",
      "metadata": {
        "id": "QsFFg9MpuiDg",
        "colab": {
          "base_uri": "https://localhost:8080/",
          "height": 299
        },
        "outputId": "b3d193e2-2f3a-49cf-f841-aeff725690c5"
      },
      "source": [
        "Data.describe()"
      ],
      "execution_count": 162,
      "outputs": [
        {
          "output_type": "execute_result",
          "data": {
            "text/html": [
              "<div>\n",
              "<style scoped>\n",
              "    .dataframe tbody tr th:only-of-type {\n",
              "        vertical-align: middle;\n",
              "    }\n",
              "\n",
              "    .dataframe tbody tr th {\n",
              "        vertical-align: top;\n",
              "    }\n",
              "\n",
              "    .dataframe thead th {\n",
              "        text-align: right;\n",
              "    }\n",
              "</style>\n",
              "<table border=\"1\" class=\"dataframe\">\n",
              "  <thead>\n",
              "    <tr style=\"text-align: right;\">\n",
              "      <th></th>\n",
              "      <th>SeniorCitizen</th>\n",
              "      <th>tenure</th>\n",
              "      <th>MonthlyCharges</th>\n",
              "    </tr>\n",
              "  </thead>\n",
              "  <tbody>\n",
              "    <tr>\n",
              "      <th>count</th>\n",
              "      <td>7043.000000</td>\n",
              "      <td>7043.000000</td>\n",
              "      <td>7043.000000</td>\n",
              "    </tr>\n",
              "    <tr>\n",
              "      <th>mean</th>\n",
              "      <td>0.162147</td>\n",
              "      <td>32.371149</td>\n",
              "      <td>64.761692</td>\n",
              "    </tr>\n",
              "    <tr>\n",
              "      <th>std</th>\n",
              "      <td>0.368612</td>\n",
              "      <td>24.559481</td>\n",
              "      <td>30.090047</td>\n",
              "    </tr>\n",
              "    <tr>\n",
              "      <th>min</th>\n",
              "      <td>0.000000</td>\n",
              "      <td>0.000000</td>\n",
              "      <td>18.250000</td>\n",
              "    </tr>\n",
              "    <tr>\n",
              "      <th>25%</th>\n",
              "      <td>0.000000</td>\n",
              "      <td>9.000000</td>\n",
              "      <td>35.500000</td>\n",
              "    </tr>\n",
              "    <tr>\n",
              "      <th>50%</th>\n",
              "      <td>0.000000</td>\n",
              "      <td>29.000000</td>\n",
              "      <td>70.350000</td>\n",
              "    </tr>\n",
              "    <tr>\n",
              "      <th>75%</th>\n",
              "      <td>0.000000</td>\n",
              "      <td>55.000000</td>\n",
              "      <td>89.850000</td>\n",
              "    </tr>\n",
              "    <tr>\n",
              "      <th>max</th>\n",
              "      <td>1.000000</td>\n",
              "      <td>72.000000</td>\n",
              "      <td>118.750000</td>\n",
              "    </tr>\n",
              "  </tbody>\n",
              "</table>\n",
              "</div>"
            ],
            "text/plain": [
              "       SeniorCitizen       tenure  MonthlyCharges\n",
              "count    7043.000000  7043.000000     7043.000000\n",
              "mean        0.162147    32.371149       64.761692\n",
              "std         0.368612    24.559481       30.090047\n",
              "min         0.000000     0.000000       18.250000\n",
              "25%         0.000000     9.000000       35.500000\n",
              "50%         0.000000    29.000000       70.350000\n",
              "75%         0.000000    55.000000       89.850000\n",
              "max         1.000000    72.000000      118.750000"
            ]
          },
          "metadata": {},
          "execution_count": 162
        }
      ]
    },
    {
      "cell_type": "code",
      "metadata": {
        "id": "vJNG36O3XIaE"
      },
      "source": [
        "Data=Data.drop(['customerID','gender'], axis=1)\n"
      ],
      "execution_count": 163,
      "outputs": []
    },
    {
      "cell_type": "code",
      "metadata": {
        "id": "Vbrq0aNqiCoo",
        "colab": {
          "base_uri": "https://localhost:8080/"
        },
        "outputId": "6df01891-7374-4540-9448-9bea99f94d18"
      },
      "source": [
        "Data.dtypes"
      ],
      "execution_count": 164,
      "outputs": [
        {
          "output_type": "execute_result",
          "data": {
            "text/plain": [
              "SeniorCitizen         int64\n",
              "Partner              object\n",
              "Dependents           object\n",
              "tenure                int64\n",
              "PhoneService         object\n",
              "MultipleLines        object\n",
              "InternetService      object\n",
              "OnlineSecurity       object\n",
              "OnlineBackup         object\n",
              "DeviceProtection     object\n",
              "TechSupport          object\n",
              "StreamingTV          object\n",
              "StreamingMovies      object\n",
              "Contract             object\n",
              "PaperlessBilling     object\n",
              "PaymentMethod        object\n",
              "MonthlyCharges      float64\n",
              "TotalCharges         object\n",
              "Churn                object\n",
              "dtype: object"
            ]
          },
          "metadata": {},
          "execution_count": 164
        }
      ]
    },
    {
      "cell_type": "code",
      "metadata": {
        "id": "8GjDHnQJkNsn"
      },
      "source": [
        "Data['TotalCharges'] = Data[\"TotalCharges\"].replace(\" \",np.nan)\n",
        "\n",
        "#removing null rows\n",
        "Data = Data[Data[\"TotalCharges\"].notnull()]\n",
        "Data = Data.reset_index()[Data.columns]"
      ],
      "execution_count": 165,
      "outputs": []
    },
    {
      "cell_type": "code",
      "metadata": {
        "id": "1DsMnNefq3JY"
      },
      "source": [
        "Data[\"TotalCharges\"] = Data[\"TotalCharges\"].astype(float, copy=True)\n",
        "\n",
        "#replace No internet service\n",
        "Data['OnlineSecurity']  = Data['OnlineSecurity'].replace({'No internet service' : 'No'}) \n",
        "Data['OnlineBackup']  = Data['OnlineBackup'].replace({'No internet service' : 'No'}) \n",
        "Data['DeviceProtection']  = Data['DeviceProtection'].replace({'No internet service' : 'No'}) \n",
        "Data['TechSupport']  = Data['TechSupport'].replace({'No internet service' : 'No'}) \n",
        "Data['StreamingTV']  = Data['StreamingTV'].replace({'No internet service' : 'No'}) \n",
        "Data['StreamingMovies']  = Data['StreamingMovies'].replace({'No internet service' : 'No'}) \n",
        "Data['MultipleLines']  = Data['MultipleLines'].replace({'No phone service' : 'No'}) "
      ],
      "execution_count": 166,
      "outputs": []
    },
    {
      "cell_type": "code",
      "metadata": {
        "id": "qsZnRkeFu62s",
        "colab": {
          "base_uri": "https://localhost:8080/"
        },
        "outputId": "e7278dcd-34e2-4e61-a529-84d4f08fdac6"
      },
      "source": [
        "Data.nunique()"
      ],
      "execution_count": 167,
      "outputs": [
        {
          "output_type": "execute_result",
          "data": {
            "text/plain": [
              "SeniorCitizen          2\n",
              "Partner                2\n",
              "Dependents             2\n",
              "tenure                72\n",
              "PhoneService           2\n",
              "MultipleLines          2\n",
              "InternetService        3\n",
              "OnlineSecurity         2\n",
              "OnlineBackup           2\n",
              "DeviceProtection       2\n",
              "TechSupport            2\n",
              "StreamingTV            2\n",
              "StreamingMovies        2\n",
              "Contract               3\n",
              "PaperlessBilling       2\n",
              "PaymentMethod          4\n",
              "MonthlyCharges      1584\n",
              "TotalCharges        6530\n",
              "Churn                  2\n",
              "dtype: int64"
            ]
          },
          "metadata": {},
          "execution_count": 167
        }
      ]
    },
    {
      "cell_type": "code",
      "metadata": {
        "id": "5acam8DnX-gW"
      },
      "source": [
        "from sklearn.preprocessing import LabelEncoder\n",
        "le = LabelEncoder()"
      ],
      "execution_count": 168,
      "outputs": []
    },
    {
      "cell_type": "code",
      "metadata": {
        "id": "pPaFb7nuEyMe"
      },
      "source": [
        "import pickle\n",
        "pickle.dump(le, open('labelencoder.pkl', 'wb'))\n"
      ],
      "execution_count": 169,
      "outputs": []
    },
    {
      "cell_type": "code",
      "metadata": {
        "id": "Uvpk_3AFYVe9"
      },
      "source": [
        "\n",
        "dfle = Data\n",
        "\n",
        "dfle.Partner = le.fit_transform(dfle.Partner)\n",
        "dfle.Dependents = le.fit_transform(dfle.Dependents)\n",
        "dfle.PhoneService = le.fit_transform(dfle.PhoneService)\n",
        "dfle.MultipleLines = le.fit_transform(dfle.MultipleLines)\n",
        "dfle.InternetService = le.fit_transform(dfle.InternetService)\n",
        "dfle.OnlineSecurity = le.fit_transform(dfle.OnlineSecurity)\n",
        "dfle.OnlineBackup = le.fit_transform(dfle.OnlineBackup)\n",
        "dfle.DeviceProtection = le.fit_transform(dfle.DeviceProtection)\n",
        "dfle.TechSupport = le.fit_transform(dfle.TechSupport)\n",
        "dfle.StreamingTV = le.fit_transform(dfle.StreamingTV)\n",
        "dfle.StreamingMovies = le.fit_transform(dfle.StreamingMovies)\n",
        "dfle.Contract = le.fit_transform(dfle.Contract)\n",
        "dfle.PaperlessBilling = le.fit_transform(dfle.PaperlessBilling)\n",
        "dfle.PaymentMethod = le.fit_transform(dfle.PaymentMethod)\n",
        "dfle.Churn = le.fit_transform(dfle.Churn)\n",
        "\n"
      ],
      "execution_count": 170,
      "outputs": []
    },
    {
      "cell_type": "code",
      "metadata": {
        "id": "-OIbFEXXdaax",
        "colab": {
          "base_uri": "https://localhost:8080/",
          "height": 443
        },
        "outputId": "a0da0472-0d81-4712-d525-97a39b45fc31"
      },
      "source": [
        "dfle"
      ],
      "execution_count": 171,
      "outputs": [
        {
          "output_type": "execute_result",
          "data": {
            "text/html": [
              "<div>\n",
              "<style scoped>\n",
              "    .dataframe tbody tr th:only-of-type {\n",
              "        vertical-align: middle;\n",
              "    }\n",
              "\n",
              "    .dataframe tbody tr th {\n",
              "        vertical-align: top;\n",
              "    }\n",
              "\n",
              "    .dataframe thead th {\n",
              "        text-align: right;\n",
              "    }\n",
              "</style>\n",
              "<table border=\"1\" class=\"dataframe\">\n",
              "  <thead>\n",
              "    <tr style=\"text-align: right;\">\n",
              "      <th></th>\n",
              "      <th>SeniorCitizen</th>\n",
              "      <th>Partner</th>\n",
              "      <th>Dependents</th>\n",
              "      <th>tenure</th>\n",
              "      <th>PhoneService</th>\n",
              "      <th>MultipleLines</th>\n",
              "      <th>InternetService</th>\n",
              "      <th>OnlineSecurity</th>\n",
              "      <th>OnlineBackup</th>\n",
              "      <th>DeviceProtection</th>\n",
              "      <th>TechSupport</th>\n",
              "      <th>StreamingTV</th>\n",
              "      <th>StreamingMovies</th>\n",
              "      <th>Contract</th>\n",
              "      <th>PaperlessBilling</th>\n",
              "      <th>PaymentMethod</th>\n",
              "      <th>MonthlyCharges</th>\n",
              "      <th>TotalCharges</th>\n",
              "      <th>Churn</th>\n",
              "    </tr>\n",
              "  </thead>\n",
              "  <tbody>\n",
              "    <tr>\n",
              "      <th>0</th>\n",
              "      <td>0</td>\n",
              "      <td>1</td>\n",
              "      <td>0</td>\n",
              "      <td>1</td>\n",
              "      <td>0</td>\n",
              "      <td>0</td>\n",
              "      <td>0</td>\n",
              "      <td>0</td>\n",
              "      <td>1</td>\n",
              "      <td>0</td>\n",
              "      <td>0</td>\n",
              "      <td>0</td>\n",
              "      <td>0</td>\n",
              "      <td>0</td>\n",
              "      <td>1</td>\n",
              "      <td>2</td>\n",
              "      <td>29.85</td>\n",
              "      <td>29.85</td>\n",
              "      <td>0</td>\n",
              "    </tr>\n",
              "    <tr>\n",
              "      <th>1</th>\n",
              "      <td>0</td>\n",
              "      <td>0</td>\n",
              "      <td>0</td>\n",
              "      <td>34</td>\n",
              "      <td>1</td>\n",
              "      <td>0</td>\n",
              "      <td>0</td>\n",
              "      <td>1</td>\n",
              "      <td>0</td>\n",
              "      <td>1</td>\n",
              "      <td>0</td>\n",
              "      <td>0</td>\n",
              "      <td>0</td>\n",
              "      <td>1</td>\n",
              "      <td>0</td>\n",
              "      <td>3</td>\n",
              "      <td>56.95</td>\n",
              "      <td>1889.50</td>\n",
              "      <td>0</td>\n",
              "    </tr>\n",
              "    <tr>\n",
              "      <th>2</th>\n",
              "      <td>0</td>\n",
              "      <td>0</td>\n",
              "      <td>0</td>\n",
              "      <td>2</td>\n",
              "      <td>1</td>\n",
              "      <td>0</td>\n",
              "      <td>0</td>\n",
              "      <td>1</td>\n",
              "      <td>1</td>\n",
              "      <td>0</td>\n",
              "      <td>0</td>\n",
              "      <td>0</td>\n",
              "      <td>0</td>\n",
              "      <td>0</td>\n",
              "      <td>1</td>\n",
              "      <td>3</td>\n",
              "      <td>53.85</td>\n",
              "      <td>108.15</td>\n",
              "      <td>1</td>\n",
              "    </tr>\n",
              "    <tr>\n",
              "      <th>3</th>\n",
              "      <td>0</td>\n",
              "      <td>0</td>\n",
              "      <td>0</td>\n",
              "      <td>45</td>\n",
              "      <td>0</td>\n",
              "      <td>0</td>\n",
              "      <td>0</td>\n",
              "      <td>1</td>\n",
              "      <td>0</td>\n",
              "      <td>1</td>\n",
              "      <td>1</td>\n",
              "      <td>0</td>\n",
              "      <td>0</td>\n",
              "      <td>1</td>\n",
              "      <td>0</td>\n",
              "      <td>0</td>\n",
              "      <td>42.30</td>\n",
              "      <td>1840.75</td>\n",
              "      <td>0</td>\n",
              "    </tr>\n",
              "    <tr>\n",
              "      <th>4</th>\n",
              "      <td>0</td>\n",
              "      <td>0</td>\n",
              "      <td>0</td>\n",
              "      <td>2</td>\n",
              "      <td>1</td>\n",
              "      <td>0</td>\n",
              "      <td>1</td>\n",
              "      <td>0</td>\n",
              "      <td>0</td>\n",
              "      <td>0</td>\n",
              "      <td>0</td>\n",
              "      <td>0</td>\n",
              "      <td>0</td>\n",
              "      <td>0</td>\n",
              "      <td>1</td>\n",
              "      <td>2</td>\n",
              "      <td>70.70</td>\n",
              "      <td>151.65</td>\n",
              "      <td>1</td>\n",
              "    </tr>\n",
              "    <tr>\n",
              "      <th>...</th>\n",
              "      <td>...</td>\n",
              "      <td>...</td>\n",
              "      <td>...</td>\n",
              "      <td>...</td>\n",
              "      <td>...</td>\n",
              "      <td>...</td>\n",
              "      <td>...</td>\n",
              "      <td>...</td>\n",
              "      <td>...</td>\n",
              "      <td>...</td>\n",
              "      <td>...</td>\n",
              "      <td>...</td>\n",
              "      <td>...</td>\n",
              "      <td>...</td>\n",
              "      <td>...</td>\n",
              "      <td>...</td>\n",
              "      <td>...</td>\n",
              "      <td>...</td>\n",
              "      <td>...</td>\n",
              "    </tr>\n",
              "    <tr>\n",
              "      <th>7027</th>\n",
              "      <td>0</td>\n",
              "      <td>1</td>\n",
              "      <td>1</td>\n",
              "      <td>24</td>\n",
              "      <td>1</td>\n",
              "      <td>1</td>\n",
              "      <td>0</td>\n",
              "      <td>1</td>\n",
              "      <td>0</td>\n",
              "      <td>1</td>\n",
              "      <td>1</td>\n",
              "      <td>1</td>\n",
              "      <td>1</td>\n",
              "      <td>1</td>\n",
              "      <td>1</td>\n",
              "      <td>3</td>\n",
              "      <td>84.80</td>\n",
              "      <td>1990.50</td>\n",
              "      <td>0</td>\n",
              "    </tr>\n",
              "    <tr>\n",
              "      <th>7028</th>\n",
              "      <td>0</td>\n",
              "      <td>1</td>\n",
              "      <td>1</td>\n",
              "      <td>72</td>\n",
              "      <td>1</td>\n",
              "      <td>1</td>\n",
              "      <td>1</td>\n",
              "      <td>0</td>\n",
              "      <td>1</td>\n",
              "      <td>1</td>\n",
              "      <td>0</td>\n",
              "      <td>1</td>\n",
              "      <td>1</td>\n",
              "      <td>1</td>\n",
              "      <td>1</td>\n",
              "      <td>1</td>\n",
              "      <td>103.20</td>\n",
              "      <td>7362.90</td>\n",
              "      <td>0</td>\n",
              "    </tr>\n",
              "    <tr>\n",
              "      <th>7029</th>\n",
              "      <td>0</td>\n",
              "      <td>1</td>\n",
              "      <td>1</td>\n",
              "      <td>11</td>\n",
              "      <td>0</td>\n",
              "      <td>0</td>\n",
              "      <td>0</td>\n",
              "      <td>1</td>\n",
              "      <td>0</td>\n",
              "      <td>0</td>\n",
              "      <td>0</td>\n",
              "      <td>0</td>\n",
              "      <td>0</td>\n",
              "      <td>0</td>\n",
              "      <td>1</td>\n",
              "      <td>2</td>\n",
              "      <td>29.60</td>\n",
              "      <td>346.45</td>\n",
              "      <td>0</td>\n",
              "    </tr>\n",
              "    <tr>\n",
              "      <th>7030</th>\n",
              "      <td>1</td>\n",
              "      <td>1</td>\n",
              "      <td>0</td>\n",
              "      <td>4</td>\n",
              "      <td>1</td>\n",
              "      <td>1</td>\n",
              "      <td>1</td>\n",
              "      <td>0</td>\n",
              "      <td>0</td>\n",
              "      <td>0</td>\n",
              "      <td>0</td>\n",
              "      <td>0</td>\n",
              "      <td>0</td>\n",
              "      <td>0</td>\n",
              "      <td>1</td>\n",
              "      <td>3</td>\n",
              "      <td>74.40</td>\n",
              "      <td>306.60</td>\n",
              "      <td>1</td>\n",
              "    </tr>\n",
              "    <tr>\n",
              "      <th>7031</th>\n",
              "      <td>0</td>\n",
              "      <td>0</td>\n",
              "      <td>0</td>\n",
              "      <td>66</td>\n",
              "      <td>1</td>\n",
              "      <td>0</td>\n",
              "      <td>1</td>\n",
              "      <td>1</td>\n",
              "      <td>0</td>\n",
              "      <td>1</td>\n",
              "      <td>1</td>\n",
              "      <td>1</td>\n",
              "      <td>1</td>\n",
              "      <td>2</td>\n",
              "      <td>1</td>\n",
              "      <td>0</td>\n",
              "      <td>105.65</td>\n",
              "      <td>6844.50</td>\n",
              "      <td>0</td>\n",
              "    </tr>\n",
              "  </tbody>\n",
              "</table>\n",
              "<p>7032 rows × 19 columns</p>\n",
              "</div>"
            ],
            "text/plain": [
              "      SeniorCitizen  Partner  Dependents  ...  MonthlyCharges  TotalCharges  Churn\n",
              "0                 0        1           0  ...           29.85         29.85      0\n",
              "1                 0        0           0  ...           56.95       1889.50      0\n",
              "2                 0        0           0  ...           53.85        108.15      1\n",
              "3                 0        0           0  ...           42.30       1840.75      0\n",
              "4                 0        0           0  ...           70.70        151.65      1\n",
              "...             ...      ...         ...  ...             ...           ...    ...\n",
              "7027              0        1           1  ...           84.80       1990.50      0\n",
              "7028              0        1           1  ...          103.20       7362.90      0\n",
              "7029              0        1           1  ...           29.60        346.45      0\n",
              "7030              1        1           0  ...           74.40        306.60      1\n",
              "7031              0        0           0  ...          105.65       6844.50      0\n",
              "\n",
              "[7032 rows x 19 columns]"
            ]
          },
          "metadata": {},
          "execution_count": 171
        }
      ]
    },
    {
      "cell_type": "code",
      "metadata": {
        "id": "nga1IQ7kU0lF",
        "colab": {
          "base_uri": "https://localhost:8080/",
          "height": 796
        },
        "outputId": "f9a1bc7c-3153-4937-ede9-fe7bdf26d858"
      },
      "source": [
        "plt.figure(figsize=(16,12))\n",
        "sns.heatmap(dfle.corr(), annot=True)"
      ],
      "execution_count": 172,
      "outputs": [
        {
          "output_type": "execute_result",
          "data": {
            "text/plain": [
              "<matplotlib.axes._subplots.AxesSubplot at 0x7f63c0f46d10>"
            ]
          },
          "metadata": {},
          "execution_count": 172
        },
        {
          "output_type": "display_data",
          "data": {
            "image/png": "[encoded data removed]",
            "text/plain": [
              "<Figure size 1152x864 with 2 Axes>"
            ]
          },
          "metadata": {
            "needs_background": "light"
          }
        }
      ]
    },
    {
      "cell_type": "code",
      "metadata": {
        "id": "pj6-GsEPQe8z"
      },
      "source": [
        "X= dfle.drop(['Churn'],axis=1)\n",
        "y=dfle['Churn']"
      ],
      "execution_count": 173,
      "outputs": []
    },
    {
      "cell_type": "code",
      "metadata": {
        "id": "UL5_vwkMDZOp",
        "colab": {
          "base_uri": "https://localhost:8080/"
        },
        "outputId": "939f0023-17c8-48c8-b2c8-e33a11c4f368"
      },
      "source": [
        "#standardizing the input feature\n",
        "from sklearn.preprocessing import StandardScaler\n",
        "sc = StandardScaler()\n",
        "X = sc.fit_transform(X)\n",
        "X"
      ],
      "execution_count": 174,
      "outputs": [
        {
          "output_type": "execute_result",
          "data": {
            "text/plain": [
              "array([[-0.44032709,  1.03561683, -0.65230493, ...,  0.39980518,\n",
              "        -1.16169394, -0.99419409],\n",
              "       [-0.44032709, -0.9656081 , -0.65230493, ...,  1.33663626,\n",
              "        -0.26087792, -0.17373982],\n",
              "       [-0.44032709, -0.9656081 , -0.65230493, ...,  1.33663626,\n",
              "        -0.36392329, -0.95964911],\n",
              "       ...,\n",
              "       [-0.44032709,  1.03561683,  1.53302536, ...,  0.39980518,\n",
              "        -1.17000405, -0.85451414],\n",
              "       [ 2.27103902,  1.03561683, -0.65230493, ...,  1.33663626,\n",
              "         0.31916782, -0.87209546],\n",
              "       [-0.44032709, -0.9656081 , -0.65230493, ..., -1.47385696,\n",
              "         1.35793167,  2.01234407]])"
            ]
          },
          "metadata": {},
          "execution_count": 174
        }
      ]
    },
    {
      "cell_type": "code",
      "metadata": {
        "id": "ZU4edV_iDr5O"
      },
      "source": [
        "import pickle\n",
        "pickle.dump(sc, open('standardscaler.pkl', 'wb'))"
      ],
      "execution_count": 175,
      "outputs": []
    },
    {
      "cell_type": "code",
      "metadata": {
        "id": "I5DtFBTA1O-e"
      },
      "source": [
        "from sklearn.model_selection import train_test_split\n",
        "X_train, X_test, y_train, y_test = train_test_split(X,y,test_size=0.3,random_state=42)"
      ],
      "execution_count": 176,
      "outputs": []
    },
    {
      "cell_type": "markdown",
      "metadata": {
        "id": "KYwQyKg_Fazv"
      },
      "source": [
        "# Sequential model\n",
        "A Sequential model is appropriate for a plain stack of layers where each layer has exactly one input tensor and one output tensor."
      ]
    },
    {
      "cell_type": "code",
      "metadata": {
        "id": "HXFcct3LRuUC"
      },
      "source": [
        "from keras import Sequential\n",
        "from keras.layers import Dense"
      ],
      "execution_count": 177,
      "outputs": []
    },
    {
      "cell_type": "code",
      "metadata": {
        "id": "cdkdAZRHhj2a"
      },
      "source": [
        "classifier = Sequential()\n",
        "#First Hidden Layer\n",
        "classifier.add(Dense(64, activation='relu', kernel_initializer='random_normal', input_dim=18))\n",
        "#Second  Hidden Layer\n",
        "classifier.add(Dense(32, activation='relu', kernel_initializer='random_normal'))\n",
        "#Output Layer\n",
        "classifier.add(Dense(1, activation='sigmoid', kernel_initializer='random_normal'))"
      ],
      "execution_count": 178,
      "outputs": []
    },
    {
      "cell_type": "code",
      "metadata": {
        "id": "qgrCEnlahzgT"
      },
      "source": [
        "#Compiling the neural network\n",
        "\n",
        "classifier.compile(optimizer ='adam',loss='binary_crossentropy', metrics =['accuracy'])"
      ],
      "execution_count": 179,
      "outputs": []
    },
    {
      "cell_type": "code",
      "metadata": {
        "id": "EtIDZWM9iAEp",
        "colab": {
          "base_uri": "https://localhost:8080/"
        },
        "outputId": "cbc8650c-c03f-4d90-cd25-e0e79ac28007"
      },
      "source": [
        "#Fitting the data to the training dataset/\n",
        "classifier.fit(X_train,y_train, batch_size=64, epochs=33,validation_split=0.1)"
      ],
      "execution_count": 180,
      "outputs": [
        {
          "output_type": "stream",
          "name": "stdout",
          "text": [
            "Epoch 1/33\n",
            "70/70 [==============================] - 1s 6ms/step - loss: 0.5853 - accuracy: 0.7415 - val_loss: 0.4441 - val_accuracy: 0.8032\n",
            "Epoch 2/33\n",
            "70/70 [==============================] - 0s 4ms/step - loss: 0.4376 - accuracy: 0.7830 - val_loss: 0.4107 - val_accuracy: 0.8012\n",
            "Epoch 3/33\n",
            "70/70 [==============================] - 0s 4ms/step - loss: 0.4231 - accuracy: 0.7941 - val_loss: 0.3998 - val_accuracy: 0.8073\n",
            "Epoch 4/33\n",
            "70/70 [==============================] - 0s 4ms/step - loss: 0.4172 - accuracy: 0.8031 - val_loss: 0.3969 - val_accuracy: 0.8134\n",
            "Epoch 5/33\n",
            "70/70 [==============================] - 0s 4ms/step - loss: 0.4138 - accuracy: 0.8020 - val_loss: 0.3953 - val_accuracy: 0.8195\n",
            "Epoch 6/33\n",
            "70/70 [==============================] - 0s 4ms/step - loss: 0.4120 - accuracy: 0.8056 - val_loss: 0.3909 - val_accuracy: 0.8235\n",
            "Epoch 7/33\n",
            "70/70 [==============================] - 0s 4ms/step - loss: 0.4106 - accuracy: 0.8061 - val_loss: 0.3884 - val_accuracy: 0.8215\n",
            "Epoch 8/33\n",
            "70/70 [==============================] - 0s 4ms/step - loss: 0.4093 - accuracy: 0.8040 - val_loss: 0.3881 - val_accuracy: 0.8256\n",
            "Epoch 9/33\n",
            "70/70 [==============================] - 0s 4ms/step - loss: 0.4078 - accuracy: 0.8079 - val_loss: 0.3888 - val_accuracy: 0.8235\n",
            "Epoch 10/33\n",
            "70/70 [==============================] - 0s 4ms/step - loss: 0.4070 - accuracy: 0.8079 - val_loss: 0.3870 - val_accuracy: 0.8337\n",
            "Epoch 11/33\n",
            "70/70 [==============================] - 0s 4ms/step - loss: 0.4055 - accuracy: 0.8094 - val_loss: 0.3862 - val_accuracy: 0.8337\n",
            "Epoch 12/33\n",
            "70/70 [==============================] - 0s 5ms/step - loss: 0.4034 - accuracy: 0.8106 - val_loss: 0.3866 - val_accuracy: 0.8235\n",
            "Epoch 13/33\n",
            "70/70 [==============================] - 0s 4ms/step - loss: 0.4025 - accuracy: 0.8110 - val_loss: 0.3875 - val_accuracy: 0.8256\n",
            "Epoch 14/33\n",
            "70/70 [==============================] - 0s 5ms/step - loss: 0.4018 - accuracy: 0.8106 - val_loss: 0.3852 - val_accuracy: 0.8296\n",
            "Epoch 15/33\n",
            "70/70 [==============================] - 0s 4ms/step - loss: 0.4017 - accuracy: 0.8117 - val_loss: 0.3839 - val_accuracy: 0.8316\n",
            "Epoch 16/33\n",
            "70/70 [==============================] - 0s 4ms/step - loss: 0.3993 - accuracy: 0.8124 - val_loss: 0.3842 - val_accuracy: 0.8276\n",
            "Epoch 17/33\n",
            "70/70 [==============================] - 0s 4ms/step - loss: 0.3991 - accuracy: 0.8146 - val_loss: 0.3856 - val_accuracy: 0.8296\n",
            "Epoch 18/33\n",
            "70/70 [==============================] - 0s 5ms/step - loss: 0.3987 - accuracy: 0.8110 - val_loss: 0.3827 - val_accuracy: 0.8296\n",
            "Epoch 19/33\n",
            "70/70 [==============================] - 0s 4ms/step - loss: 0.3975 - accuracy: 0.8131 - val_loss: 0.3810 - val_accuracy: 0.8276\n",
            "Epoch 20/33\n",
            "70/70 [==============================] - 0s 4ms/step - loss: 0.3958 - accuracy: 0.8176 - val_loss: 0.3820 - val_accuracy: 0.8296\n",
            "Epoch 21/33\n",
            "70/70 [==============================] - 0s 4ms/step - loss: 0.3947 - accuracy: 0.8167 - val_loss: 0.3854 - val_accuracy: 0.8256\n",
            "Epoch 22/33\n",
            "70/70 [==============================] - 0s 5ms/step - loss: 0.3944 - accuracy: 0.8146 - val_loss: 0.3858 - val_accuracy: 0.8235\n",
            "Epoch 23/33\n",
            "70/70 [==============================] - 0s 4ms/step - loss: 0.3922 - accuracy: 0.8189 - val_loss: 0.3823 - val_accuracy: 0.8276\n",
            "Epoch 24/33\n",
            "70/70 [==============================] - 0s 5ms/step - loss: 0.3907 - accuracy: 0.8194 - val_loss: 0.3828 - val_accuracy: 0.8215\n",
            "Epoch 25/33\n",
            "70/70 [==============================] - 0s 4ms/step - loss: 0.3907 - accuracy: 0.8187 - val_loss: 0.3817 - val_accuracy: 0.8276\n",
            "Epoch 26/33\n",
            "70/70 [==============================] - 0s 5ms/step - loss: 0.3885 - accuracy: 0.8230 - val_loss: 0.3836 - val_accuracy: 0.8235\n",
            "Epoch 27/33\n",
            "70/70 [==============================] - 0s 5ms/step - loss: 0.3888 - accuracy: 0.8223 - val_loss: 0.3837 - val_accuracy: 0.8235\n",
            "Epoch 28/33\n",
            "70/70 [==============================] - 0s 4ms/step - loss: 0.3868 - accuracy: 0.8221 - val_loss: 0.3832 - val_accuracy: 0.8215\n",
            "Epoch 29/33\n",
            "70/70 [==============================] - 0s 5ms/step - loss: 0.3854 - accuracy: 0.8200 - val_loss: 0.3864 - val_accuracy: 0.8256\n",
            "Epoch 30/33\n",
            "70/70 [==============================] - 0s 4ms/step - loss: 0.3860 - accuracy: 0.8234 - val_loss: 0.3849 - val_accuracy: 0.8235\n",
            "Epoch 31/33\n",
            "70/70 [==============================] - 0s 5ms/step - loss: 0.3850 - accuracy: 0.8219 - val_loss: 0.3850 - val_accuracy: 0.8215\n",
            "Epoch 32/33\n",
            "70/70 [==============================] - 0s 4ms/step - loss: 0.3835 - accuracy: 0.8214 - val_loss: 0.3833 - val_accuracy: 0.8174\n",
            "Epoch 33/33\n",
            "70/70 [==============================] - 0s 4ms/step - loss: 0.3813 - accuracy: 0.8210 - val_loss: 0.3851 - val_accuracy: 0.8215\n"
          ]
        },
        {
          "output_type": "execute_result",
          "data": {
            "text/plain": [
              "<keras.callbacks.History at 0x7f63b930c590>"
            ]
          },
          "metadata": {},
          "execution_count": 180
        }
      ]
    },
    {
      "cell_type": "code",
      "metadata": {
        "id": "8BEfcIJCihlg",
        "colab": {
          "base_uri": "https://localhost:8080/"
        },
        "outputId": "8208fc4c-ab0c-431f-fb05-e3e790447951"
      },
      "source": [
        "eval_model=classifier.evaluate(X_test, y_test)\n",
        "eval_model"
      ],
      "execution_count": 181,
      "outputs": [
        {
          "output_type": "stream",
          "name": "stdout",
          "text": [
            "66/66 [==============================] - 0s 3ms/step - loss: 0.4369 - accuracy: 0.7957\n"
          ]
        },
        {
          "output_type": "execute_result",
          "data": {
            "text/plain": [
              "[0.43694084882736206, 0.7957345843315125]"
            ]
          },
          "metadata": {},
          "execution_count": 181
        }
      ]
    },
    {
      "cell_type": "code",
      "metadata": {
        "id": "_HihmW9tisNq"
      },
      "source": [
        "y_pred=classifier.predict(X_test)\n",
        "y_pred =(y_pred>0.5)"
      ],
      "execution_count": 182,
      "outputs": []
    },
    {
      "cell_type": "code",
      "metadata": {
        "id": "1SHCSvM9pIVW",
        "colab": {
          "base_uri": "https://localhost:8080/"
        },
        "outputId": "f4278853-e6fd-4853-b8b5-09e9d6390277"
      },
      "source": [
        "from sklearn.metrics import confusion_matrix\n",
        "cm = confusion_matrix(y_test, y_pred)\n",
        "print(cm)"
      ],
      "execution_count": 183,
      "outputs": [
        {
          "output_type": "stream",
          "name": "stdout",
          "text": [
            "[[1400  149]\n",
            " [ 282  279]]\n"
          ]
        }
      ]
    },
    {
      "cell_type": "code",
      "metadata": {
        "id": "HfaCsuA7isuf",
        "colab": {
          "base_uri": "https://localhost:8080/"
        },
        "outputId": "391a13eb-6433-4100-c906-0514cdbd836d"
      },
      "source": [
        "from sklearn.metrics import classification_report\n",
        "print(classification_report(y_test, y_pred))"
      ],
      "execution_count": 184,
      "outputs": [
        {
          "output_type": "stream",
          "name": "stdout",
          "text": [
            "              precision    recall  f1-score   support\n",
            "\n",
            "           0       0.83      0.90      0.87      1549\n",
            "           1       0.65      0.50      0.56       561\n",
            "\n",
            "    accuracy                           0.80      2110\n",
            "   macro avg       0.74      0.70      0.72      2110\n",
            "weighted avg       0.78      0.80      0.79      2110\n",
            "\n"
          ]
        }
      ]
    },
    {
      "cell_type": "code",
      "metadata": {
        "id": "LzRTE6jP1sAL",
        "colab": {
          "base_uri": "https://localhost:8080/"
        },
        "outputId": "05983fab-e311-4523-a659-eebc81578a76"
      },
      "source": [
        "from sklearn.metrics import roc_auc_score\n",
        "roc_auc_score(y_test, classifier.predict(X_test))"
      ],
      "execution_count": 185,
      "outputs": [
        {
          "output_type": "execute_result",
          "data": {
            "text/plain": [
              "0.8285887393281157"
            ]
          },
          "metadata": {},
          "execution_count": 185
        }
      ]
    },
    {
      "cell_type": "markdown",
      "metadata": {
        "id": "1_JtyBI6HyTS"
      },
      "source": [
        "## Accuracy of Sequential model is 0.8285887393281157"
      ]
    },
    {
      "cell_type": "markdown",
      "metadata": {
        "id": "nRkcgF4dIBbm"
      },
      "source": [
        "#Sklearn Logistic regresssion"
      ]
    },
    {
      "cell_type": "code",
      "metadata": {
        "id": "Bop38JtA7YNz"
      },
      "source": [
        "from sklearn.model_selection import train_test_split\n",
        "X_train, X_test, y_train, y_test = train_test_split(X,y,test_size=0.3,random_state=42)"
      ],
      "execution_count": 186,
      "outputs": []
    },
    {
      "cell_type": "code",
      "metadata": {
        "id": "RQW5mMhh7HlA"
      },
      "source": [
        "from sklearn.linear_model import LogisticRegression\n",
        "model = LogisticRegression()\n",
        "model.fit(X_train, y_train)\n",
        "model.score(X_test,y_test)\n",
        "y_le_p = model.predict(X_test)"
      ],
      "execution_count": 187,
      "outputs": []
    },
    {
      "cell_type": "code",
      "metadata": {
        "id": "vsOxuzXkgsWJ",
        "colab": {
          "base_uri": "https://localhost:8080/"
        },
        "outputId": "224432f6-32ad-44c6-cdc8-132bf7828b0d"
      },
      "source": [
        "model.score(X_test,y_test)"
      ],
      "execution_count": 188,
      "outputs": [
        {
          "output_type": "execute_result",
          "data": {
            "text/plain": [
              "0.7971563981042654"
            ]
          },
          "metadata": {},
          "execution_count": 188
        }
      ]
    },
    {
      "cell_type": "code",
      "metadata": {
        "id": "sl4Mbrob-sSC",
        "colab": {
          "base_uri": "https://localhost:8080/"
        },
        "outputId": "6d34c926-937b-4d5a-9214-0601f4b7e7c1"
      },
      "source": [
        "from sklearn.metrics import classification_report\n",
        "print(classification_report(y_test, y_le_p))"
      ],
      "execution_count": 189,
      "outputs": [
        {
          "output_type": "stream",
          "name": "stdout",
          "text": [
            "              precision    recall  f1-score   support\n",
            "\n",
            "           0       0.84      0.89      0.87      1549\n",
            "           1       0.64      0.53      0.58       561\n",
            "\n",
            "    accuracy                           0.80      2110\n",
            "   macro avg       0.74      0.71      0.72      2110\n",
            "weighted avg       0.79      0.80      0.79      2110\n",
            "\n"
          ]
        }
      ]
    },
    {
      "cell_type": "code",
      "metadata": {
        "id": "lYR3OCtZ_Ml8",
        "colab": {
          "base_uri": "https://localhost:8080/"
        },
        "outputId": "caf63c2b-6cdb-491b-b983-94c23240adf1"
      },
      "source": [
        "from sklearn.metrics import confusion_matrix\n",
        "print(confusion_matrix(y_test, y_le_p))\n"
      ],
      "execution_count": 190,
      "outputs": [
        {
          "output_type": "stream",
          "name": "stdout",
          "text": [
            "[[1383  166]\n",
            " [ 262  299]]\n"
          ]
        }
      ]
    },
    {
      "cell_type": "code",
      "metadata": {
        "id": "ZkTxtXq_9X7C",
        "colab": {
          "base_uri": "https://localhost:8080/"
        },
        "outputId": "031fcf43-a418-468f-9166-8bbd37bf7bc2"
      },
      "source": [
        "\n",
        "from sklearn.metrics import roc_auc_score\n",
        "roc_auc_score(y_test, y_le_p)"
      ],
      "execution_count": 191,
      "outputs": [
        {
          "output_type": "execute_result",
          "data": {
            "text/plain": [
              "0.7129054568009491"
            ]
          },
          "metadata": {},
          "execution_count": 191
        }
      ]
    },
    {
      "cell_type": "markdown",
      "metadata": {
        "id": "z5NMGYgYIqNu"
      },
      "source": [
        "## Sklearn Logistic regresssion Accuracy 0.7129054\n",
        "\n"
      ]
    },
    {
      "cell_type": "markdown",
      "metadata": {
        "id": "gCL8dAETI_Zj"
      },
      "source": [
        "# Sklearn desision tree"
      ]
    },
    {
      "cell_type": "code",
      "metadata": {
        "id": "vHa5G49iCEki"
      },
      "source": [
        "from sklearn.model_selection import train_test_split\n",
        "X_train, X_test, y_train, y_test = train_test_split(X,y,test_size=0.3,random_state=42)"
      ],
      "execution_count": 192,
      "outputs": []
    },
    {
      "cell_type": "code",
      "metadata": {
        "id": "Q2E543eM-58I"
      },
      "source": [
        "from sklearn import tree\n",
        "model2 = tree.DecisionTreeClassifier()"
      ],
      "execution_count": 193,
      "outputs": []
    },
    {
      "cell_type": "code",
      "metadata": {
        "id": "Jf5yp5WF-8Eb"
      },
      "source": [
        "model2.fit(X_train, y_train)\n",
        "y_dt_p = model2.predict(X_test)"
      ],
      "execution_count": 194,
      "outputs": []
    },
    {
      "cell_type": "code",
      "metadata": {
        "id": "jrKBUCHM-_5s",
        "colab": {
          "base_uri": "https://localhost:8080/"
        },
        "outputId": "543ad285-2b2d-4699-f6e0-fc290438acb2"
      },
      "source": [
        "model2.score(X_test,y_test)"
      ],
      "execution_count": 195,
      "outputs": [
        {
          "output_type": "execute_result",
          "data": {
            "text/plain": [
              "0.7118483412322275"
            ]
          },
          "metadata": {},
          "execution_count": 195
        }
      ]
    },
    {
      "cell_type": "code",
      "metadata": {
        "id": "XQ5mpccQ_vgF",
        "colab": {
          "base_uri": "https://localhost:8080/"
        },
        "outputId": "3e8de263-91d5-4b46-88c2-3e24314b16c8"
      },
      "source": [
        "from sklearn.metrics import classification_report\n",
        "print(classification_report(y_test, y_dt_p))"
      ],
      "execution_count": 196,
      "outputs": [
        {
          "output_type": "stream",
          "name": "stdout",
          "text": [
            "              precision    recall  f1-score   support\n",
            "\n",
            "           0       0.81      0.79      0.80      1549\n",
            "           1       0.46      0.48      0.47       561\n",
            "\n",
            "    accuracy                           0.71      2110\n",
            "   macro avg       0.63      0.64      0.64      2110\n",
            "weighted avg       0.72      0.71      0.71      2110\n",
            "\n"
          ]
        }
      ]
    },
    {
      "cell_type": "code",
      "metadata": {
        "id": "5C2Iw6tz_zBx",
        "colab": {
          "base_uri": "https://localhost:8080/"
        },
        "outputId": "e7e0cdeb-aa05-49ba-e2f8-2dba01ee605f"
      },
      "source": [
        "from sklearn.metrics import confusion_matrix\n",
        "print(confusion_matrix(y_test, y_dt_p))"
      ],
      "execution_count": 197,
      "outputs": [
        {
          "output_type": "stream",
          "name": "stdout",
          "text": [
            "[[1231  318]\n",
            " [ 290  271]]\n"
          ]
        }
      ]
    },
    {
      "cell_type": "code",
      "metadata": {
        "id": "v_GK7wip5F-g",
        "colab": {
          "base_uri": "https://localhost:8080/"
        },
        "outputId": "8c31aad8-edf4-466e-c7a1-d2ad43722eeb"
      },
      "source": [
        "\n",
        "from sklearn.metrics import roc_auc_score\n",
        "roc_auc_score(y_test, y_dt_p)"
      ],
      "execution_count": 198,
      "outputs": [
        {
          "output_type": "execute_result",
          "data": {
            "text/plain": [
              "0.6388861078793864"
            ]
          },
          "metadata": {},
          "execution_count": 198
        }
      ]
    },
    {
      "cell_type": "markdown",
      "metadata": {
        "id": "Ahj01ZfmJ1rS"
      },
      "source": [
        "## Sklearn desision tree Accuracy 0.6388861078793864\n"
      ]
    },
    {
      "cell_type": "markdown",
      "metadata": {
        "id": "5VZfUl0LKR6T"
      },
      "source": [
        "Support Vector Machines (SVM)"
      ]
    },
    {
      "cell_type": "code",
      "metadata": {
        "id": "CRsFYJEZUirw"
      },
      "source": [
        "from sklearn.model_selection import train_test_split\n",
        "X_train, X_test, y_train, y_test = train_test_split(X,y,test_size=0.3,random_state=42)"
      ],
      "execution_count": 199,
      "outputs": []
    },
    {
      "cell_type": "code",
      "metadata": {
        "id": "xekf36S1_045",
        "colab": {
          "base_uri": "https://localhost:8080/"
        },
        "outputId": "5cdcf748-ac49-462f-c05c-92bb46e03281"
      },
      "source": [
        "from sklearn import svm\n",
        "clf = svm.SVC(kernel='linear', C = 1.0)\n",
        "clf.fit(X_train,y_train)"
      ],
      "execution_count": 200,
      "outputs": [
        {
          "output_type": "execute_result",
          "data": {
            "text/plain": [
              "SVC(C=1.0, break_ties=False, cache_size=200, class_weight=None, coef0=0.0,\n",
              "    decision_function_shape='ovr', degree=3, gamma='scale', kernel='linear',\n",
              "    max_iter=-1, probability=False, random_state=None, shrinking=True,\n",
              "    tol=0.001, verbose=False)"
            ]
          },
          "metadata": {},
          "execution_count": 200
        }
      ]
    },
    {
      "cell_type": "code",
      "metadata": {
        "id": "SmKQHTuTUkIh",
        "colab": {
          "base_uri": "https://localhost:8080/"
        },
        "outputId": "2b9426d6-e76d-49e1-def0-bd1a1fccc709"
      },
      "source": [
        "clf.score(X_test,y_test)"
      ],
      "execution_count": 201,
      "outputs": [
        {
          "output_type": "execute_result",
          "data": {
            "text/plain": [
              "0.7862559241706161"
            ]
          },
          "metadata": {},
          "execution_count": 201
        }
      ]
    },
    {
      "cell_type": "code",
      "metadata": {
        "id": "IO6oYS3xU5hn",
        "colab": {
          "base_uri": "https://localhost:8080/"
        },
        "outputId": "b219a96b-0094-428e-921c-1f4d4f033592"
      },
      "source": [
        "from sklearn.metrics import classification_report\n",
        "print(classification_report(y_test, clf.predict(X_test)))"
      ],
      "execution_count": 202,
      "outputs": [
        {
          "output_type": "stream",
          "name": "stdout",
          "text": [
            "              precision    recall  f1-score   support\n",
            "\n",
            "           0       0.84      0.88      0.86      1549\n",
            "           1       0.62      0.52      0.56       561\n",
            "\n",
            "    accuracy                           0.79      2110\n",
            "   macro avg       0.73      0.70      0.71      2110\n",
            "weighted avg       0.78      0.79      0.78      2110\n",
            "\n"
          ]
        }
      ]
    },
    {
      "cell_type": "code",
      "metadata": {
        "id": "zMaC_TpmVAHo",
        "colab": {
          "base_uri": "https://localhost:8080/"
        },
        "outputId": "4a516724-56e3-432e-e3a3-11f132c27de1"
      },
      "source": [
        "from sklearn.metrics import confusion_matrix\n",
        "print(confusion_matrix(y_test, clf.predict(X_test)))"
      ],
      "execution_count": 203,
      "outputs": [
        {
          "output_type": "stream",
          "name": "stdout",
          "text": [
            "[[1368  181]\n",
            " [ 270  291]]\n"
          ]
        }
      ]
    },
    {
      "cell_type": "code",
      "metadata": {
        "id": "uG5daYrr5WJ_",
        "colab": {
          "base_uri": "https://localhost:8080/"
        },
        "outputId": "ca366dca-4df3-4778-eb5b-7934d469ec8a"
      },
      "source": [
        "\n",
        "from sklearn.metrics import roc_auc_score\n",
        "roc_auc_score(y_test, clf.predict(X_test))"
      ],
      "execution_count": 204,
      "outputs": [
        {
          "output_type": "execute_result",
          "data": {
            "text/plain": [
              "0.7009334985828358"
            ]
          },
          "metadata": {},
          "execution_count": 204
        }
      ]
    },
    {
      "cell_type": "markdown",
      "metadata": {
        "id": "IarZtkB1MKD4"
      },
      "source": [
        "## Support Vector Machines (SVM) accuracy 0.7009334985828358"
      ]
    },
    {
      "cell_type": "markdown",
      "metadata": {
        "id": "_QEeZDhgMJyQ"
      },
      "source": [
        "# skLearn naive_bayes"
      ]
    },
    {
      "cell_type": "code",
      "metadata": {
        "id": "O0jyoZLxHLXK"
      },
      "source": [
        "X= dfle.drop(['Churn'],axis=1)\n",
        "y=dfle['Churn']\n",
        "from sklearn.model_selection import train_test_split\n",
        "X_train, X_test, y_train, y_test = train_test_split(X,y,test_size=0.3,random_state=42)"
      ],
      "execution_count": 205,
      "outputs": []
    },
    {
      "cell_type": "code",
      "metadata": {
        "id": "fgoR4TXnVSHj",
        "colab": {
          "base_uri": "https://localhost:8080/"
        },
        "outputId": "3d1a0e87-3798-450b-e930-03b0ef5dc1b0"
      },
      "source": [
        "from sklearn.naive_bayes import GaussianNB\n",
        "clfmodel =GaussianNB()\n",
        "clfmodel.fit(X_train, y_train)"
      ],
      "execution_count": 206,
      "outputs": [
        {
          "output_type": "execute_result",
          "data": {
            "text/plain": [
              "GaussianNB(priors=None, var_smoothing=1e-09)"
            ]
          },
          "metadata": {},
          "execution_count": 206
        }
      ]
    },
    {
      "cell_type": "code",
      "metadata": {
        "id": "KouJ4rd9Vq1v",
        "colab": {
          "base_uri": "https://localhost:8080/"
        },
        "outputId": "28f37cae-b0d3-4134-9803-16bdafbb3160"
      },
      "source": [
        "clfmodel.score(X_test,y_test)"
      ],
      "execution_count": 207,
      "outputs": [
        {
          "output_type": "execute_result",
          "data": {
            "text/plain": [
              "0.7511848341232228"
            ]
          },
          "metadata": {},
          "execution_count": 207
        }
      ]
    },
    {
      "cell_type": "code",
      "metadata": {
        "id": "mX8qRuy6Wkbm",
        "colab": {
          "base_uri": "https://localhost:8080/"
        },
        "outputId": "fd48306c-6f0e-4b12-938f-27fd3831f01f"
      },
      "source": [
        "\n",
        "from sklearn.metrics import roc_auc_score\n",
        "roc_auc_score(y_test, clfmodel.predict(X_test))"
      ],
      "execution_count": 208,
      "outputs": [
        {
          "output_type": "execute_result",
          "data": {
            "text/plain": [
              "0.7401480340947929"
            ]
          },
          "metadata": {},
          "execution_count": 208
        }
      ]
    },
    {
      "cell_type": "code",
      "metadata": {
        "id": "_3PrnuTNIAhJ",
        "colab": {
          "base_uri": "https://localhost:8080/"
        },
        "outputId": "fbc44fdd-f2b4-4472-8821-8f11e1463000"
      },
      "source": [
        "from sklearn.metrics import classification_report\n",
        "print(classification_report(y_test, clfmodel.predict(X_test)))"
      ],
      "execution_count": 209,
      "outputs": [
        {
          "output_type": "stream",
          "name": "stdout",
          "text": [
            "              precision    recall  f1-score   support\n",
            "\n",
            "           0       0.88      0.76      0.82      1549\n",
            "           1       0.52      0.72      0.60       561\n",
            "\n",
            "    accuracy                           0.75      2110\n",
            "   macro avg       0.70      0.74      0.71      2110\n",
            "weighted avg       0.79      0.75      0.76      2110\n",
            "\n"
          ]
        }
      ]
    },
    {
      "cell_type": "code",
      "metadata": {
        "colab": {
          "base_uri": "https://localhost:8080/"
        },
        "id": "CBXWYjoZa-Yt",
        "outputId": "a7ec10e7-e64b-4634-d31b-723071091381"
      },
      "source": [
        "from joblib import dump, load\n",
        "dump(clfmodel, 'filename.joblib') "
      ],
      "execution_count": 215,
      "outputs": [
        {
          "output_type": "execute_result",
          "data": {
            "text/plain": [
              "['filename.joblib']"
            ]
          },
          "metadata": {},
          "execution_count": 215
        }
      ]
    },
    {
      "cell_type": "markdown",
      "metadata": {
        "id": "GXAIqCLDNOdj"
      },
      "source": [
        "## skLearn naive_bayes accuracy 0.7401480340947929"
      ]
    },
    {
      "cell_type": "markdown",
      "metadata": {
        "id": "ndNWpLFNNdfR"
      },
      "source": [
        "#1D CNN"
      ]
    },
    {
      "cell_type": "code",
      "metadata": {
        "id": "e15MoZOwZyxX",
        "colab": {
          "base_uri": "https://localhost:8080/"
        },
        "outputId": "c8806657-af5a-4c64-a2d3-1f609e349e5a"
      },
      "source": [
        "import keras\n",
        "\n",
        "import numpy as np\n",
        "\n",
        "\n",
        "\n",
        "print(X_train.shape)\n",
        "print(y_train.shape)\n",
        "\n",
        "num_class = 1\n",
        "\n",
        "\n",
        "timesteps = 18\n",
        "\n",
        "def createClassifier():\n",
        "    sequence = keras.layers.Input(shape=(timesteps, 1), name='Sequence')\n",
        "\n",
        "    conv = keras.Sequential()\n",
        "    conv.add(keras.layers.Conv1D(10, 5, activation='relu', input_shape=(timesteps, 1)))\n",
        "    conv.add(keras.layers.Conv1D(10, 5, activation='relu'))\n",
        "    conv.add(keras.layers.MaxPool1D(2))   \n",
        "    conv.add(keras.layers.Dropout(0.2))\n",
        "\n",
        "    conv.add(keras.layers.Conv1D(5, 2, activation='relu'))\n",
        "    #conv.add(keras.layers.Conv1D(5, 2, activation='relu'))\n",
        "    conv.add(keras.layers.GlobalAveragePooling1D())\n",
        "    #conv.add(keras.layers.Dropout(0.2))   \n",
        "    #conv.add(keras.layers.Flatten())\n",
        "    part1 = conv(sequence)\n",
        "\n",
        "\n",
        "    final = keras.layers.Dense(8, activation='relu')(part1)\n",
        "    final = keras.layers.Dropout(0.5)(final)\n",
        "    final = keras.layers.Dense(num_class, activation='sigmoid')(final)\n",
        "\n",
        "    model = keras.Model(inputs=[sequence], outputs=[final])\n",
        "    model.compile(loss='binary_crossentropy', optimizer='adam', metrics=['accuracy'])\n",
        "    return model\n",
        "\n",
        "model = createClassifier()\n",
        "print(model.summary())\n",
        "X1_Train = X_train.values.reshape((4922,18,1))\n",
        "model.fit([X1_Train], y_train, epochs =200,validation_split=0.1)"
      ],
      "execution_count": 210,
      "outputs": [
        {
          "output_type": "stream",
          "name": "stdout",
          "text": [
            "(4922, 18)\n",
            "(4922,)\n",
            "Model: \"model_3\"\n",
            "_________________________________________________________________\n",
            "Layer (type)                 Output Shape              Param #   \n",
            "=================================================================\n",
            "Sequence (InputLayer)        [(None, 18, 1)]           0         \n",
            "_________________________________________________________________\n",
            "sequential_7 (Sequential)    (None, 5)                 675       \n",
            "_________________________________________________________________\n",
            "dense_18 (Dense)             (None, 8)                 48        \n",
            "_________________________________________________________________\n",
            "dropout_7 (Dropout)          (None, 8)                 0         \n",
            "_________________________________________________________________\n",
            "dense_19 (Dense)             (None, 1)                 9         \n",
            "=================================================================\n",
            "Total params: 732\n",
            "Trainable params: 732\n",
            "Non-trainable params: 0\n",
            "_________________________________________________________________\n",
            "None\n",
            "Epoch 1/200\n",
            "139/139 [==============================] - 2s 8ms/step - loss: 0.6815 - accuracy: 0.7020 - val_loss: 0.5034 - val_accuracy: 0.7323\n",
            "Epoch 2/200\n",
            "139/139 [==============================] - 1s 7ms/step - loss: 0.5614 - accuracy: 0.7288 - val_loss: 0.5046 - val_accuracy: 0.7323\n",
            "Epoch 3/200\n",
            "139/139 [==============================] - 1s 7ms/step - loss: 0.5402 - accuracy: 0.7333 - val_loss: 0.4959 - val_accuracy: 0.7323\n",
            "Epoch 4/200\n",
            "139/139 [==============================] - 1s 6ms/step - loss: 0.5337 - accuracy: 0.7338 - val_loss: 0.4957 - val_accuracy: 0.7323\n",
            "Epoch 5/200\n",
            "139/139 [==============================] - 1s 6ms/step - loss: 0.5158 - accuracy: 0.7345 - val_loss: 0.4877 - val_accuracy: 0.7323\n",
            "Epoch 6/200\n",
            "139/139 [==============================] - 1s 7ms/step - loss: 0.5141 - accuracy: 0.7345 - val_loss: 0.4763 - val_accuracy: 0.7323\n",
            "Epoch 7/200\n",
            "139/139 [==============================] - 1s 7ms/step - loss: 0.5127 - accuracy: 0.7345 - val_loss: 0.4682 - val_accuracy: 0.7323\n",
            "Epoch 8/200\n",
            "139/139 [==============================] - 1s 7ms/step - loss: 0.5101 - accuracy: 0.7345 - val_loss: 0.4735 - val_accuracy: 0.7323\n",
            "Epoch 9/200\n",
            "139/139 [==============================] - 1s 7ms/step - loss: 0.5004 - accuracy: 0.7345 - val_loss: 0.4621 - val_accuracy: 0.7323\n",
            "Epoch 10/200\n",
            "139/139 [==============================] - 1s 7ms/step - loss: 0.4973 - accuracy: 0.7345 - val_loss: 0.4480 - val_accuracy: 0.7323\n",
            "Epoch 11/200\n",
            "139/139 [==============================] - 1s 7ms/step - loss: 0.4909 - accuracy: 0.7403 - val_loss: 0.4444 - val_accuracy: 0.7323\n",
            "Epoch 12/200\n",
            "139/139 [==============================] - 1s 7ms/step - loss: 0.4869 - accuracy: 0.7591 - val_loss: 0.4420 - val_accuracy: 0.7323\n",
            "Epoch 13/200\n",
            "139/139 [==============================] - 1s 6ms/step - loss: 0.4836 - accuracy: 0.7589 - val_loss: 0.4465 - val_accuracy: 0.7708\n",
            "Epoch 14/200\n",
            "139/139 [==============================] - 1s 6ms/step - loss: 0.4828 - accuracy: 0.7613 - val_loss: 0.4290 - val_accuracy: 0.7931\n",
            "Epoch 15/200\n",
            "139/139 [==============================] - 1s 7ms/step - loss: 0.4793 - accuracy: 0.7643 - val_loss: 0.4303 - val_accuracy: 0.7890\n",
            "Epoch 16/200\n",
            "139/139 [==============================] - 1s 7ms/step - loss: 0.4845 - accuracy: 0.7602 - val_loss: 0.4424 - val_accuracy: 0.7931\n",
            "Epoch 17/200\n",
            "139/139 [==============================] - 1s 7ms/step - loss: 0.4793 - accuracy: 0.7593 - val_loss: 0.4245 - val_accuracy: 0.7992\n",
            "Epoch 18/200\n",
            "139/139 [==============================] - 1s 6ms/step - loss: 0.4757 - accuracy: 0.7632 - val_loss: 0.4223 - val_accuracy: 0.7992\n",
            "Epoch 19/200\n",
            "139/139 [==============================] - 1s 7ms/step - loss: 0.4704 - accuracy: 0.7609 - val_loss: 0.4182 - val_accuracy: 0.7972\n",
            "Epoch 20/200\n",
            "139/139 [==============================] - 1s 6ms/step - loss: 0.4739 - accuracy: 0.7609 - val_loss: 0.4174 - val_accuracy: 0.7951\n",
            "Epoch 21/200\n",
            "139/139 [==============================] - 1s 7ms/step - loss: 0.4760 - accuracy: 0.7595 - val_loss: 0.4234 - val_accuracy: 0.8012\n",
            "Epoch 22/200\n",
            "139/139 [==============================] - 1s 7ms/step - loss: 0.4703 - accuracy: 0.7580 - val_loss: 0.4244 - val_accuracy: 0.8093\n",
            "Epoch 23/200\n",
            "139/139 [==============================] - 1s 7ms/step - loss: 0.4647 - accuracy: 0.7616 - val_loss: 0.4123 - val_accuracy: 0.7951\n",
            "Epoch 24/200\n",
            "139/139 [==============================] - 1s 7ms/step - loss: 0.4647 - accuracy: 0.7670 - val_loss: 0.4112 - val_accuracy: 0.8012\n",
            "Epoch 25/200\n",
            "139/139 [==============================] - 1s 7ms/step - loss: 0.4671 - accuracy: 0.7582 - val_loss: 0.4099 - val_accuracy: 0.8012\n",
            "Epoch 26/200\n",
            "139/139 [==============================] - 1s 7ms/step - loss: 0.4687 - accuracy: 0.7681 - val_loss: 0.4201 - val_accuracy: 0.8012\n",
            "Epoch 27/200\n",
            "139/139 [==============================] - 1s 7ms/step - loss: 0.4682 - accuracy: 0.7627 - val_loss: 0.4098 - val_accuracy: 0.8012\n",
            "Epoch 28/200\n",
            "139/139 [==============================] - 1s 7ms/step - loss: 0.4636 - accuracy: 0.7674 - val_loss: 0.4133 - val_accuracy: 0.8093\n",
            "Epoch 29/200\n",
            "139/139 [==============================] - 1s 7ms/step - loss: 0.4727 - accuracy: 0.7602 - val_loss: 0.4087 - val_accuracy: 0.8012\n",
            "Epoch 30/200\n",
            "139/139 [==============================] - 1s 7ms/step - loss: 0.4622 - accuracy: 0.7627 - val_loss: 0.4053 - val_accuracy: 0.7972\n",
            "Epoch 31/200\n",
            "139/139 [==============================] - 1s 7ms/step - loss: 0.4641 - accuracy: 0.7659 - val_loss: 0.4150 - val_accuracy: 0.8073\n",
            "Epoch 32/200\n",
            "139/139 [==============================] - 1s 7ms/step - loss: 0.4688 - accuracy: 0.7638 - val_loss: 0.4138 - val_accuracy: 0.8073\n",
            "Epoch 33/200\n",
            "139/139 [==============================] - 1s 7ms/step - loss: 0.4598 - accuracy: 0.7663 - val_loss: 0.4105 - val_accuracy: 0.8012\n",
            "Epoch 34/200\n",
            "139/139 [==============================] - 1s 6ms/step - loss: 0.4570 - accuracy: 0.7679 - val_loss: 0.4138 - val_accuracy: 0.8093\n",
            "Epoch 35/200\n",
            "139/139 [==============================] - 1s 7ms/step - loss: 0.4634 - accuracy: 0.7555 - val_loss: 0.4103 - val_accuracy: 0.8032\n",
            "Epoch 36/200\n",
            "139/139 [==============================] - 1s 7ms/step - loss: 0.4568 - accuracy: 0.7670 - val_loss: 0.4061 - val_accuracy: 0.8053\n",
            "Epoch 37/200\n",
            "139/139 [==============================] - 1s 7ms/step - loss: 0.4576 - accuracy: 0.7672 - val_loss: 0.4167 - val_accuracy: 0.8195\n",
            "Epoch 38/200\n",
            "139/139 [==============================] - 1s 7ms/step - loss: 0.4528 - accuracy: 0.7663 - val_loss: 0.4186 - val_accuracy: 0.7992\n",
            "Epoch 39/200\n",
            "139/139 [==============================] - 1s 7ms/step - loss: 0.4569 - accuracy: 0.7654 - val_loss: 0.4152 - val_accuracy: 0.8032\n",
            "Epoch 40/200\n",
            "139/139 [==============================] - 1s 7ms/step - loss: 0.4636 - accuracy: 0.7586 - val_loss: 0.4078 - val_accuracy: 0.7992\n",
            "Epoch 41/200\n",
            "139/139 [==============================] - 1s 7ms/step - loss: 0.4618 - accuracy: 0.7593 - val_loss: 0.4080 - val_accuracy: 0.7972\n",
            "Epoch 42/200\n",
            "139/139 [==============================] - 1s 7ms/step - loss: 0.4611 - accuracy: 0.7726 - val_loss: 0.4084 - val_accuracy: 0.8012\n",
            "Epoch 43/200\n",
            "139/139 [==============================] - 1s 7ms/step - loss: 0.4579 - accuracy: 0.7722 - val_loss: 0.4015 - val_accuracy: 0.8053\n",
            "Epoch 44/200\n",
            "139/139 [==============================] - 1s 7ms/step - loss: 0.4563 - accuracy: 0.7629 - val_loss: 0.4048 - val_accuracy: 0.7992\n",
            "Epoch 45/200\n",
            "139/139 [==============================] - 1s 7ms/step - loss: 0.4587 - accuracy: 0.7663 - val_loss: 0.4109 - val_accuracy: 0.8053\n",
            "Epoch 46/200\n",
            "139/139 [==============================] - 1s 7ms/step - loss: 0.4631 - accuracy: 0.7641 - val_loss: 0.4060 - val_accuracy: 0.8134\n",
            "Epoch 47/200\n",
            "139/139 [==============================] - 1s 7ms/step - loss: 0.4534 - accuracy: 0.7720 - val_loss: 0.4048 - val_accuracy: 0.7951\n",
            "Epoch 48/200\n",
            "139/139 [==============================] - 1s 7ms/step - loss: 0.4666 - accuracy: 0.7638 - val_loss: 0.4149 - val_accuracy: 0.7992\n",
            "Epoch 49/200\n",
            "139/139 [==============================] - 1s 7ms/step - loss: 0.4496 - accuracy: 0.7636 - val_loss: 0.4060 - val_accuracy: 0.7972\n",
            "Epoch 50/200\n",
            "139/139 [==============================] - 1s 7ms/step - loss: 0.4545 - accuracy: 0.7661 - val_loss: 0.4070 - val_accuracy: 0.8073\n",
            "Epoch 51/200\n",
            "139/139 [==============================] - 1s 7ms/step - loss: 0.4581 - accuracy: 0.7618 - val_loss: 0.4046 - val_accuracy: 0.8134\n",
            "Epoch 52/200\n",
            "139/139 [==============================] - 1s 7ms/step - loss: 0.4616 - accuracy: 0.7683 - val_loss: 0.4049 - val_accuracy: 0.8012\n",
            "Epoch 53/200\n",
            "139/139 [==============================] - 1s 7ms/step - loss: 0.4551 - accuracy: 0.7713 - val_loss: 0.4051 - val_accuracy: 0.8093\n",
            "Epoch 54/200\n",
            "139/139 [==============================] - 1s 7ms/step - loss: 0.4568 - accuracy: 0.7679 - val_loss: 0.4031 - val_accuracy: 0.8032\n",
            "Epoch 55/200\n",
            "139/139 [==============================] - 1s 7ms/step - loss: 0.4558 - accuracy: 0.7663 - val_loss: 0.4171 - val_accuracy: 0.8174\n",
            "Epoch 56/200\n",
            "139/139 [==============================] - 1s 7ms/step - loss: 0.4587 - accuracy: 0.7638 - val_loss: 0.4059 - val_accuracy: 0.7992\n",
            "Epoch 57/200\n",
            "139/139 [==============================] - 1s 7ms/step - loss: 0.4594 - accuracy: 0.7622 - val_loss: 0.4081 - val_accuracy: 0.8134\n",
            "Epoch 58/200\n",
            "139/139 [==============================] - 1s 7ms/step - loss: 0.4557 - accuracy: 0.7645 - val_loss: 0.4051 - val_accuracy: 0.7992\n",
            "Epoch 59/200\n",
            "139/139 [==============================] - 1s 7ms/step - loss: 0.4500 - accuracy: 0.7711 - val_loss: 0.4085 - val_accuracy: 0.8073\n",
            "Epoch 60/200\n",
            "139/139 [==============================] - 1s 7ms/step - loss: 0.4594 - accuracy: 0.7652 - val_loss: 0.4092 - val_accuracy: 0.8032\n",
            "Epoch 61/200\n",
            "139/139 [==============================] - 1s 7ms/step - loss: 0.4556 - accuracy: 0.7634 - val_loss: 0.4074 - val_accuracy: 0.8073\n",
            "Epoch 62/200\n",
            "139/139 [==============================] - 1s 7ms/step - loss: 0.4539 - accuracy: 0.7654 - val_loss: 0.4063 - val_accuracy: 0.8032\n",
            "Epoch 63/200\n",
            "139/139 [==============================] - 1s 7ms/step - loss: 0.4566 - accuracy: 0.7629 - val_loss: 0.4120 - val_accuracy: 0.8134\n",
            "Epoch 64/200\n",
            "139/139 [==============================] - 1s 7ms/step - loss: 0.4616 - accuracy: 0.7598 - val_loss: 0.4059 - val_accuracy: 0.7931\n",
            "Epoch 65/200\n",
            "139/139 [==============================] - 1s 7ms/step - loss: 0.4529 - accuracy: 0.7663 - val_loss: 0.4095 - val_accuracy: 0.8215\n",
            "Epoch 66/200\n",
            "139/139 [==============================] - 1s 7ms/step - loss: 0.4574 - accuracy: 0.7659 - val_loss: 0.4081 - val_accuracy: 0.7972\n",
            "Epoch 67/200\n",
            "139/139 [==============================] - 1s 7ms/step - loss: 0.4529 - accuracy: 0.7661 - val_loss: 0.4087 - val_accuracy: 0.8073\n",
            "Epoch 68/200\n",
            "139/139 [==============================] - 1s 7ms/step - loss: 0.4562 - accuracy: 0.7681 - val_loss: 0.4068 - val_accuracy: 0.8012\n",
            "Epoch 69/200\n",
            "139/139 [==============================] - 1s 7ms/step - loss: 0.4588 - accuracy: 0.7681 - val_loss: 0.4131 - val_accuracy: 0.8093\n",
            "Epoch 70/200\n",
            "139/139 [==============================] - 1s 7ms/step - loss: 0.4534 - accuracy: 0.7706 - val_loss: 0.4057 - val_accuracy: 0.7992\n",
            "Epoch 71/200\n",
            "139/139 [==============================] - 1s 7ms/step - loss: 0.4459 - accuracy: 0.7726 - val_loss: 0.4055 - val_accuracy: 0.8032\n",
            "Epoch 72/200\n",
            "139/139 [==============================] - 1s 7ms/step - loss: 0.4580 - accuracy: 0.7654 - val_loss: 0.4070 - val_accuracy: 0.8032\n",
            "Epoch 73/200\n",
            "139/139 [==============================] - 1s 7ms/step - loss: 0.4588 - accuracy: 0.7591 - val_loss: 0.4092 - val_accuracy: 0.8032\n",
            "Epoch 74/200\n",
            "139/139 [==============================] - 1s 6ms/step - loss: 0.4549 - accuracy: 0.7641 - val_loss: 0.4112 - val_accuracy: 0.7992\n",
            "Epoch 75/200\n",
            "139/139 [==============================] - 1s 7ms/step - loss: 0.4540 - accuracy: 0.7674 - val_loss: 0.4065 - val_accuracy: 0.8012\n",
            "Epoch 76/200\n",
            "139/139 [==============================] - 1s 7ms/step - loss: 0.4573 - accuracy: 0.7661 - val_loss: 0.4137 - val_accuracy: 0.7992\n",
            "Epoch 77/200\n",
            "139/139 [==============================] - 1s 7ms/step - loss: 0.4483 - accuracy: 0.7720 - val_loss: 0.4040 - val_accuracy: 0.8073\n",
            "Epoch 78/200\n",
            "139/139 [==============================] - 1s 7ms/step - loss: 0.4493 - accuracy: 0.7654 - val_loss: 0.4067 - val_accuracy: 0.8032\n",
            "Epoch 79/200\n",
            "139/139 [==============================] - 1s 7ms/step - loss: 0.4578 - accuracy: 0.7702 - val_loss: 0.4142 - val_accuracy: 0.7972\n",
            "Epoch 80/200\n",
            "139/139 [==============================] - 1s 7ms/step - loss: 0.4546 - accuracy: 0.7715 - val_loss: 0.4097 - val_accuracy: 0.7992\n",
            "Epoch 81/200\n",
            "139/139 [==============================] - 1s 7ms/step - loss: 0.4610 - accuracy: 0.7665 - val_loss: 0.4177 - val_accuracy: 0.8012\n",
            "Epoch 82/200\n",
            "139/139 [==============================] - 1s 7ms/step - loss: 0.4512 - accuracy: 0.7697 - val_loss: 0.4087 - val_accuracy: 0.8093\n",
            "Epoch 83/200\n",
            "139/139 [==============================] - 1s 7ms/step - loss: 0.4498 - accuracy: 0.7636 - val_loss: 0.4107 - val_accuracy: 0.8012\n",
            "Epoch 84/200\n",
            "139/139 [==============================] - 1s 7ms/step - loss: 0.4471 - accuracy: 0.7708 - val_loss: 0.4031 - val_accuracy: 0.8154\n",
            "Epoch 85/200\n",
            "139/139 [==============================] - 1s 7ms/step - loss: 0.4531 - accuracy: 0.7645 - val_loss: 0.4060 - val_accuracy: 0.8053\n",
            "Epoch 86/200\n",
            "139/139 [==============================] - 1s 7ms/step - loss: 0.4548 - accuracy: 0.7738 - val_loss: 0.4044 - val_accuracy: 0.8012\n",
            "Epoch 87/200\n",
            "139/139 [==============================] - 1s 7ms/step - loss: 0.4562 - accuracy: 0.7668 - val_loss: 0.4055 - val_accuracy: 0.8012\n",
            "Epoch 88/200\n",
            "139/139 [==============================] - 1s 7ms/step - loss: 0.4528 - accuracy: 0.7706 - val_loss: 0.4002 - val_accuracy: 0.8032\n",
            "Epoch 89/200\n",
            "139/139 [==============================] - 1s 7ms/step - loss: 0.4573 - accuracy: 0.7711 - val_loss: 0.4084 - val_accuracy: 0.8134\n",
            "Epoch 90/200\n",
            "139/139 [==============================] - 1s 7ms/step - loss: 0.4550 - accuracy: 0.7663 - val_loss: 0.4131 - val_accuracy: 0.8073\n",
            "Epoch 91/200\n",
            "139/139 [==============================] - 1s 7ms/step - loss: 0.4487 - accuracy: 0.7681 - val_loss: 0.4025 - val_accuracy: 0.8053\n",
            "Epoch 92/200\n",
            "139/139 [==============================] - 1s 7ms/step - loss: 0.4543 - accuracy: 0.7695 - val_loss: 0.4022 - val_accuracy: 0.8093\n",
            "Epoch 93/200\n",
            "139/139 [==============================] - 1s 7ms/step - loss: 0.4492 - accuracy: 0.7695 - val_loss: 0.4114 - val_accuracy: 0.8073\n",
            "Epoch 94/200\n",
            "139/139 [==============================] - 1s 7ms/step - loss: 0.4537 - accuracy: 0.7647 - val_loss: 0.4083 - val_accuracy: 0.8053\n",
            "Epoch 95/200\n",
            "139/139 [==============================] - 1s 7ms/step - loss: 0.4556 - accuracy: 0.7742 - val_loss: 0.4116 - val_accuracy: 0.8032\n",
            "Epoch 96/200\n",
            "139/139 [==============================] - 1s 7ms/step - loss: 0.4527 - accuracy: 0.7661 - val_loss: 0.4108 - val_accuracy: 0.8012\n",
            "Epoch 97/200\n",
            "139/139 [==============================] - 1s 7ms/step - loss: 0.4562 - accuracy: 0.7697 - val_loss: 0.4086 - val_accuracy: 0.7992\n",
            "Epoch 98/200\n",
            "139/139 [==============================] - 1s 7ms/step - loss: 0.4500 - accuracy: 0.7656 - val_loss: 0.4064 - val_accuracy: 0.8053\n",
            "Epoch 99/200\n",
            "139/139 [==============================] - 1s 7ms/step - loss: 0.4524 - accuracy: 0.7683 - val_loss: 0.4067 - val_accuracy: 0.8093\n",
            "Epoch 100/200\n",
            "139/139 [==============================] - 1s 7ms/step - loss: 0.4447 - accuracy: 0.7713 - val_loss: 0.4091 - val_accuracy: 0.8093\n",
            "Epoch 101/200\n",
            "139/139 [==============================] - 1s 7ms/step - loss: 0.4473 - accuracy: 0.7731 - val_loss: 0.4019 - val_accuracy: 0.8073\n",
            "Epoch 102/200\n",
            "139/139 [==============================] - 1s 7ms/step - loss: 0.4431 - accuracy: 0.7699 - val_loss: 0.4081 - val_accuracy: 0.8032\n",
            "Epoch 103/200\n",
            "139/139 [==============================] - 1s 7ms/step - loss: 0.4504 - accuracy: 0.7643 - val_loss: 0.4089 - val_accuracy: 0.8114\n",
            "Epoch 104/200\n",
            "139/139 [==============================] - 1s 7ms/step - loss: 0.4513 - accuracy: 0.7668 - val_loss: 0.4134 - val_accuracy: 0.8012\n",
            "Epoch 105/200\n",
            "139/139 [==============================] - 1s 7ms/step - loss: 0.4499 - accuracy: 0.7688 - val_loss: 0.4153 - val_accuracy: 0.8012\n",
            "Epoch 106/200\n",
            "139/139 [==============================] - 1s 7ms/step - loss: 0.4505 - accuracy: 0.7650 - val_loss: 0.4073 - val_accuracy: 0.8053\n",
            "Epoch 107/200\n",
            "139/139 [==============================] - 1s 7ms/step - loss: 0.4539 - accuracy: 0.7580 - val_loss: 0.4119 - val_accuracy: 0.8073\n",
            "Epoch 108/200\n",
            "139/139 [==============================] - 1s 7ms/step - loss: 0.4528 - accuracy: 0.7713 - val_loss: 0.4051 - val_accuracy: 0.8093\n",
            "Epoch 109/200\n",
            "139/139 [==============================] - 1s 7ms/step - loss: 0.4497 - accuracy: 0.7627 - val_loss: 0.4089 - val_accuracy: 0.8032\n",
            "Epoch 110/200\n",
            "139/139 [==============================] - 1s 7ms/step - loss: 0.4504 - accuracy: 0.7679 - val_loss: 0.4122 - val_accuracy: 0.8073\n",
            "Epoch 111/200\n",
            "139/139 [==============================] - 1s 7ms/step - loss: 0.4497 - accuracy: 0.7663 - val_loss: 0.4132 - val_accuracy: 0.8032\n",
            "Epoch 112/200\n",
            "139/139 [==============================] - 1s 7ms/step - loss: 0.4588 - accuracy: 0.7686 - val_loss: 0.4105 - val_accuracy: 0.8012\n",
            "Epoch 113/200\n",
            "139/139 [==============================] - 1s 7ms/step - loss: 0.4505 - accuracy: 0.7681 - val_loss: 0.4086 - val_accuracy: 0.8114\n",
            "Epoch 114/200\n",
            "139/139 [==============================] - 1s 7ms/step - loss: 0.4506 - accuracy: 0.7670 - val_loss: 0.4112 - val_accuracy: 0.8032\n",
            "Epoch 115/200\n",
            "139/139 [==============================] - 1s 7ms/step - loss: 0.4550 - accuracy: 0.7688 - val_loss: 0.4058 - val_accuracy: 0.7992\n",
            "Epoch 116/200\n",
            "139/139 [==============================] - 1s 7ms/step - loss: 0.4482 - accuracy: 0.7708 - val_loss: 0.4066 - val_accuracy: 0.7992\n",
            "Epoch 117/200\n",
            "139/139 [==============================] - 1s 7ms/step - loss: 0.4589 - accuracy: 0.7618 - val_loss: 0.4125 - val_accuracy: 0.8053\n",
            "Epoch 118/200\n",
            "139/139 [==============================] - 1s 7ms/step - loss: 0.4472 - accuracy: 0.7686 - val_loss: 0.4154 - val_accuracy: 0.8053\n",
            "Epoch 119/200\n",
            "139/139 [==============================] - 1s 7ms/step - loss: 0.4517 - accuracy: 0.7692 - val_loss: 0.4066 - val_accuracy: 0.8073\n",
            "Epoch 120/200\n",
            "139/139 [==============================] - 1s 7ms/step - loss: 0.4551 - accuracy: 0.7652 - val_loss: 0.4054 - val_accuracy: 0.7992\n",
            "Epoch 121/200\n",
            "139/139 [==============================] - 1s 7ms/step - loss: 0.4520 - accuracy: 0.7661 - val_loss: 0.4058 - val_accuracy: 0.8053\n",
            "Epoch 122/200\n",
            "139/139 [==============================] - 1s 7ms/step - loss: 0.4513 - accuracy: 0.7611 - val_loss: 0.4185 - val_accuracy: 0.8073\n",
            "Epoch 123/200\n",
            "139/139 [==============================] - 1s 7ms/step - loss: 0.4526 - accuracy: 0.7663 - val_loss: 0.4053 - val_accuracy: 0.8093\n",
            "Epoch 124/200\n",
            "139/139 [==============================] - 1s 7ms/step - loss: 0.4491 - accuracy: 0.7632 - val_loss: 0.4086 - val_accuracy: 0.8114\n",
            "Epoch 125/200\n",
            "139/139 [==============================] - 1s 7ms/step - loss: 0.4478 - accuracy: 0.7681 - val_loss: 0.4085 - val_accuracy: 0.8093\n",
            "Epoch 126/200\n",
            "139/139 [==============================] - 1s 7ms/step - loss: 0.4519 - accuracy: 0.7632 - val_loss: 0.4155 - val_accuracy: 0.8093\n",
            "Epoch 127/200\n",
            "139/139 [==============================] - 1s 7ms/step - loss: 0.4520 - accuracy: 0.7706 - val_loss: 0.4068 - val_accuracy: 0.8053\n",
            "Epoch 128/200\n",
            "139/139 [==============================] - 1s 8ms/step - loss: 0.4539 - accuracy: 0.7654 - val_loss: 0.4125 - val_accuracy: 0.8012\n",
            "Epoch 129/200\n",
            "139/139 [==============================] - 1s 7ms/step - loss: 0.4539 - accuracy: 0.7690 - val_loss: 0.4040 - val_accuracy: 0.8053\n",
            "Epoch 130/200\n",
            "139/139 [==============================] - 1s 7ms/step - loss: 0.4515 - accuracy: 0.7683 - val_loss: 0.4093 - val_accuracy: 0.8053\n",
            "Epoch 131/200\n",
            "139/139 [==============================] - 1s 8ms/step - loss: 0.4486 - accuracy: 0.7713 - val_loss: 0.4074 - val_accuracy: 0.8032\n",
            "Epoch 132/200\n",
            "139/139 [==============================] - 1s 7ms/step - loss: 0.4557 - accuracy: 0.7654 - val_loss: 0.4109 - val_accuracy: 0.8073\n",
            "Epoch 133/200\n",
            "139/139 [==============================] - 1s 7ms/step - loss: 0.4510 - accuracy: 0.7659 - val_loss: 0.4066 - val_accuracy: 0.8032\n",
            "Epoch 134/200\n",
            "139/139 [==============================] - 1s 7ms/step - loss: 0.4480 - accuracy: 0.7713 - val_loss: 0.4057 - val_accuracy: 0.8093\n",
            "Epoch 135/200\n",
            "139/139 [==============================] - 1s 7ms/step - loss: 0.4501 - accuracy: 0.7616 - val_loss: 0.4112 - val_accuracy: 0.8032\n",
            "Epoch 136/200\n",
            "139/139 [==============================] - 1s 7ms/step - loss: 0.4505 - accuracy: 0.7692 - val_loss: 0.4094 - val_accuracy: 0.8053\n",
            "Epoch 137/200\n",
            "139/139 [==============================] - 1s 7ms/step - loss: 0.4474 - accuracy: 0.7738 - val_loss: 0.4081 - val_accuracy: 0.8032\n",
            "Epoch 138/200\n",
            "139/139 [==============================] - 1s 7ms/step - loss: 0.4477 - accuracy: 0.7647 - val_loss: 0.4065 - val_accuracy: 0.8032\n",
            "Epoch 139/200\n",
            "139/139 [==============================] - 1s 7ms/step - loss: 0.4484 - accuracy: 0.7661 - val_loss: 0.4101 - val_accuracy: 0.8012\n",
            "Epoch 140/200\n",
            "139/139 [==============================] - 1s 7ms/step - loss: 0.4498 - accuracy: 0.7749 - val_loss: 0.4102 - val_accuracy: 0.8073\n",
            "Epoch 141/200\n",
            "139/139 [==============================] - 1s 7ms/step - loss: 0.4494 - accuracy: 0.7681 - val_loss: 0.4007 - val_accuracy: 0.8093\n",
            "Epoch 142/200\n",
            "139/139 [==============================] - 1s 7ms/step - loss: 0.4462 - accuracy: 0.7699 - val_loss: 0.4077 - val_accuracy: 0.8073\n",
            "Epoch 143/200\n",
            "139/139 [==============================] - 1s 7ms/step - loss: 0.4478 - accuracy: 0.7720 - val_loss: 0.4159 - val_accuracy: 0.8053\n",
            "Epoch 144/200\n",
            "139/139 [==============================] - 1s 7ms/step - loss: 0.4549 - accuracy: 0.7634 - val_loss: 0.4072 - val_accuracy: 0.7972\n",
            "Epoch 145/200\n",
            "139/139 [==============================] - 1s 7ms/step - loss: 0.4443 - accuracy: 0.7731 - val_loss: 0.4145 - val_accuracy: 0.8114\n",
            "Epoch 146/200\n",
            "139/139 [==============================] - 1s 7ms/step - loss: 0.4497 - accuracy: 0.7668 - val_loss: 0.4095 - val_accuracy: 0.8032\n",
            "Epoch 147/200\n",
            "139/139 [==============================] - 1s 7ms/step - loss: 0.4510 - accuracy: 0.7659 - val_loss: 0.4090 - val_accuracy: 0.8032\n",
            "Epoch 148/200\n",
            "139/139 [==============================] - 1s 7ms/step - loss: 0.4523 - accuracy: 0.7668 - val_loss: 0.4089 - val_accuracy: 0.8114\n",
            "Epoch 149/200\n",
            "139/139 [==============================] - 1s 7ms/step - loss: 0.4481 - accuracy: 0.7695 - val_loss: 0.4085 - val_accuracy: 0.8012\n",
            "Epoch 150/200\n",
            "139/139 [==============================] - 1s 7ms/step - loss: 0.4523 - accuracy: 0.7683 - val_loss: 0.4102 - val_accuracy: 0.7992\n",
            "Epoch 151/200\n",
            "139/139 [==============================] - 1s 7ms/step - loss: 0.4477 - accuracy: 0.7641 - val_loss: 0.4116 - val_accuracy: 0.8053\n",
            "Epoch 152/200\n",
            "139/139 [==============================] - 1s 7ms/step - loss: 0.4497 - accuracy: 0.7629 - val_loss: 0.4136 - val_accuracy: 0.8053\n",
            "Epoch 153/200\n",
            "139/139 [==============================] - 1s 7ms/step - loss: 0.4474 - accuracy: 0.7654 - val_loss: 0.4103 - val_accuracy: 0.8053\n",
            "Epoch 154/200\n",
            "139/139 [==============================] - 1s 7ms/step - loss: 0.4483 - accuracy: 0.7688 - val_loss: 0.4031 - val_accuracy: 0.8032\n",
            "Epoch 155/200\n",
            "139/139 [==============================] - 1s 7ms/step - loss: 0.4499 - accuracy: 0.7688 - val_loss: 0.4085 - val_accuracy: 0.8012\n",
            "Epoch 156/200\n",
            "139/139 [==============================] - 1s 7ms/step - loss: 0.4515 - accuracy: 0.7634 - val_loss: 0.4063 - val_accuracy: 0.8073\n",
            "Epoch 157/200\n",
            "139/139 [==============================] - 1s 7ms/step - loss: 0.4502 - accuracy: 0.7663 - val_loss: 0.4140 - val_accuracy: 0.8053\n",
            "Epoch 158/200\n",
            "139/139 [==============================] - 1s 7ms/step - loss: 0.4466 - accuracy: 0.7702 - val_loss: 0.4116 - val_accuracy: 0.8012\n",
            "Epoch 159/200\n",
            "139/139 [==============================] - 1s 7ms/step - loss: 0.4487 - accuracy: 0.7711 - val_loss: 0.4106 - val_accuracy: 0.8073\n",
            "Epoch 160/200\n",
            "139/139 [==============================] - 1s 7ms/step - loss: 0.4441 - accuracy: 0.7711 - val_loss: 0.4061 - val_accuracy: 0.7972\n",
            "Epoch 161/200\n",
            "139/139 [==============================] - 1s 7ms/step - loss: 0.4407 - accuracy: 0.7656 - val_loss: 0.4077 - val_accuracy: 0.8032\n",
            "Epoch 162/200\n",
            "139/139 [==============================] - 1s 7ms/step - loss: 0.4434 - accuracy: 0.7661 - val_loss: 0.4204 - val_accuracy: 0.8032\n",
            "Epoch 163/200\n",
            "139/139 [==============================] - 1s 7ms/step - loss: 0.4451 - accuracy: 0.7668 - val_loss: 0.4128 - val_accuracy: 0.8012\n",
            "Epoch 164/200\n",
            "139/139 [==============================] - 1s 7ms/step - loss: 0.4469 - accuracy: 0.7683 - val_loss: 0.4140 - val_accuracy: 0.7951\n",
            "Epoch 165/200\n",
            "139/139 [==============================] - 1s 7ms/step - loss: 0.4482 - accuracy: 0.7656 - val_loss: 0.4123 - val_accuracy: 0.8032\n",
            "Epoch 166/200\n",
            "139/139 [==============================] - 1s 7ms/step - loss: 0.4446 - accuracy: 0.7726 - val_loss: 0.4085 - val_accuracy: 0.7972\n",
            "Epoch 167/200\n",
            "139/139 [==============================] - 1s 7ms/step - loss: 0.4462 - accuracy: 0.7665 - val_loss: 0.4080 - val_accuracy: 0.8053\n",
            "Epoch 168/200\n",
            "139/139 [==============================] - 1s 7ms/step - loss: 0.4507 - accuracy: 0.7659 - val_loss: 0.4138 - val_accuracy: 0.7992\n",
            "Epoch 169/200\n",
            "139/139 [==============================] - 1s 7ms/step - loss: 0.4449 - accuracy: 0.7663 - val_loss: 0.4116 - val_accuracy: 0.8012\n",
            "Epoch 170/200\n",
            "139/139 [==============================] - 1s 7ms/step - loss: 0.4473 - accuracy: 0.7697 - val_loss: 0.4104 - val_accuracy: 0.8093\n",
            "Epoch 171/200\n",
            "139/139 [==============================] - 1s 8ms/step - loss: 0.4476 - accuracy: 0.7643 - val_loss: 0.4103 - val_accuracy: 0.7992\n",
            "Epoch 172/200\n",
            "139/139 [==============================] - 1s 7ms/step - loss: 0.4474 - accuracy: 0.7647 - val_loss: 0.4075 - val_accuracy: 0.8053\n",
            "Epoch 173/200\n",
            "139/139 [==============================] - 1s 7ms/step - loss: 0.4532 - accuracy: 0.7659 - val_loss: 0.4138 - val_accuracy: 0.8053\n",
            "Epoch 174/200\n",
            "139/139 [==============================] - 1s 7ms/step - loss: 0.4465 - accuracy: 0.7670 - val_loss: 0.4045 - val_accuracy: 0.8073\n",
            "Epoch 175/200\n",
            "139/139 [==============================] - 1s 7ms/step - loss: 0.4440 - accuracy: 0.7711 - val_loss: 0.4056 - val_accuracy: 0.8053\n",
            "Epoch 176/200\n",
            "139/139 [==============================] - 1s 7ms/step - loss: 0.4413 - accuracy: 0.7724 - val_loss: 0.4076 - val_accuracy: 0.8073\n",
            "Epoch 177/200\n",
            "139/139 [==============================] - 1s 7ms/step - loss: 0.4426 - accuracy: 0.7713 - val_loss: 0.4148 - val_accuracy: 0.8012\n",
            "Epoch 178/200\n",
            "139/139 [==============================] - 1s 7ms/step - loss: 0.4400 - accuracy: 0.7668 - val_loss: 0.4066 - val_accuracy: 0.8093\n",
            "Epoch 179/200\n",
            "139/139 [==============================] - 1s 7ms/step - loss: 0.4504 - accuracy: 0.7650 - val_loss: 0.4166 - val_accuracy: 0.8012\n",
            "Epoch 180/200\n",
            "139/139 [==============================] - 1s 7ms/step - loss: 0.4508 - accuracy: 0.7681 - val_loss: 0.4071 - val_accuracy: 0.8053\n",
            "Epoch 181/200\n",
            "139/139 [==============================] - 1s 7ms/step - loss: 0.4484 - accuracy: 0.7740 - val_loss: 0.4099 - val_accuracy: 0.8053\n",
            "Epoch 182/200\n",
            "139/139 [==============================] - 1s 7ms/step - loss: 0.4417 - accuracy: 0.7753 - val_loss: 0.4086 - val_accuracy: 0.8032\n",
            "Epoch 183/200\n",
            "139/139 [==============================] - 1s 7ms/step - loss: 0.4499 - accuracy: 0.7627 - val_loss: 0.4091 - val_accuracy: 0.8114\n",
            "Epoch 184/200\n",
            "139/139 [==============================] - 1s 7ms/step - loss: 0.4487 - accuracy: 0.7674 - val_loss: 0.4143 - val_accuracy: 0.8012\n",
            "Epoch 185/200\n",
            "139/139 [==============================] - 1s 7ms/step - loss: 0.4515 - accuracy: 0.7688 - val_loss: 0.4080 - val_accuracy: 0.8053\n",
            "Epoch 186/200\n",
            "139/139 [==============================] - 1s 7ms/step - loss: 0.4451 - accuracy: 0.7726 - val_loss: 0.4130 - val_accuracy: 0.7951\n",
            "Epoch 187/200\n",
            "139/139 [==============================] - 1s 7ms/step - loss: 0.4490 - accuracy: 0.7652 - val_loss: 0.4050 - val_accuracy: 0.8012\n",
            "Epoch 188/200\n",
            "139/139 [==============================] - 1s 8ms/step - loss: 0.4451 - accuracy: 0.7758 - val_loss: 0.4015 - val_accuracy: 0.7992\n",
            "Epoch 189/200\n",
            "139/139 [==============================] - 1s 8ms/step - loss: 0.4496 - accuracy: 0.7656 - val_loss: 0.4080 - val_accuracy: 0.8053\n",
            "Epoch 190/200\n",
            "139/139 [==============================] - 1s 8ms/step - loss: 0.4395 - accuracy: 0.7726 - val_loss: 0.4131 - val_accuracy: 0.8032\n",
            "Epoch 191/200\n",
            "139/139 [==============================] - 1s 7ms/step - loss: 0.4452 - accuracy: 0.7625 - val_loss: 0.4100 - val_accuracy: 0.8174\n",
            "Epoch 192/200\n",
            "139/139 [==============================] - 1s 7ms/step - loss: 0.4503 - accuracy: 0.7704 - val_loss: 0.4120 - val_accuracy: 0.8114\n",
            "Epoch 193/200\n",
            "139/139 [==============================] - 1s 7ms/step - loss: 0.4512 - accuracy: 0.7692 - val_loss: 0.4167 - val_accuracy: 0.8134\n",
            "Epoch 194/200\n",
            "139/139 [==============================] - 1s 8ms/step - loss: 0.4475 - accuracy: 0.7722 - val_loss: 0.4051 - val_accuracy: 0.8093\n",
            "Epoch 195/200\n",
            "139/139 [==============================] - 1s 7ms/step - loss: 0.4436 - accuracy: 0.7724 - val_loss: 0.4062 - val_accuracy: 0.8073\n",
            "Epoch 196/200\n",
            "139/139 [==============================] - 1s 7ms/step - loss: 0.4431 - accuracy: 0.7747 - val_loss: 0.4105 - val_accuracy: 0.8032\n",
            "Epoch 197/200\n",
            "139/139 [==============================] - 1s 7ms/step - loss: 0.4491 - accuracy: 0.7769 - val_loss: 0.4100 - val_accuracy: 0.7992\n",
            "Epoch 198/200\n",
            "139/139 [==============================] - 1s 7ms/step - loss: 0.4451 - accuracy: 0.7715 - val_loss: 0.4031 - val_accuracy: 0.8012\n",
            "Epoch 199/200\n",
            "139/139 [==============================] - 1s 7ms/step - loss: 0.4391 - accuracy: 0.7729 - val_loss: 0.4052 - val_accuracy: 0.8073\n",
            "Epoch 200/200\n",
            "139/139 [==============================] - 1s 7ms/step - loss: 0.4452 - accuracy: 0.7717 - val_loss: 0.4166 - val_accuracy: 0.8032\n"
          ]
        },
        {
          "output_type": "execute_result",
          "data": {
            "text/plain": [
              "<keras.callbacks.History at 0x7f63b9ead190>"
            ]
          },
          "metadata": {},
          "execution_count": 210
        }
      ]
    },
    {
      "cell_type": "code",
      "metadata": {
        "id": "CYTDiaGbqqQL",
        "colab": {
          "base_uri": "https://localhost:8080/"
        },
        "outputId": "c93c6b67-d404-48c2-abb3-091b2519ac10"
      },
      "source": [
        "model.evaluate(X_test.values.reshape((2110,18,1)), y_test)"
      ],
      "execution_count": 211,
      "outputs": [
        {
          "output_type": "stream",
          "name": "stdout",
          "text": [
            "66/66 [==============================] - 0s 4ms/step - loss: 0.4490 - accuracy: 0.7957\n"
          ]
        },
        {
          "output_type": "execute_result",
          "data": {
            "text/plain": [
              "[0.4489598572254181, 0.7957345843315125]"
            ]
          },
          "metadata": {},
          "execution_count": 211
        }
      ]
    },
    {
      "cell_type": "code",
      "metadata": {
        "id": "qrg0q8nUvmgf",
        "colab": {
          "base_uri": "https://localhost:8080/"
        },
        "outputId": "90fdb503-8bec-4345-8a11-e3e2c99e205f"
      },
      "source": [
        "from sklearn.metrics import roc_auc_score\n",
        "roc_auc_score(y_test, model.predict(X_test.values.reshape((2110,18,1))))"
      ],
      "execution_count": 212,
      "outputs": [
        {
          "output_type": "execute_result",
          "data": {
            "text/plain": [
              "0.8294512358614436"
            ]
          },
          "metadata": {},
          "execution_count": 212
        }
      ]
    },
    {
      "cell_type": "code",
      "metadata": {
        "id": "D28cNH0Awhk3",
        "colab": {
          "base_uri": "https://localhost:8080/"
        },
        "outputId": "928ab898-b035-4143-ee6c-34dab12ecb6f"
      },
      "source": [
        "y_pred=model.predict(X_test.values.reshape((2110,18,1)))\n",
        "y_pred =(y_pred>0.5)\n",
        "from sklearn.metrics import classification_report\n",
        "print(classification_report(y_test,  y_pred))"
      ],
      "execution_count": 213,
      "outputs": [
        {
          "output_type": "stream",
          "name": "stdout",
          "text": [
            "              precision    recall  f1-score   support\n",
            "\n",
            "           0       0.84      0.89      0.86      1549\n",
            "           1       0.64      0.54      0.59       561\n",
            "\n",
            "    accuracy                           0.80      2110\n",
            "   macro avg       0.74      0.71      0.72      2110\n",
            "weighted avg       0.79      0.80      0.79      2110\n",
            "\n"
          ]
        }
      ]
    },
    {
      "cell_type": "markdown",
      "metadata": {
        "id": "X-uxLHN1WZBe"
      },
      "source": [
        "##1D CNN accuracy 0.8294512358614436\n"
      ]
    }
  ]
}